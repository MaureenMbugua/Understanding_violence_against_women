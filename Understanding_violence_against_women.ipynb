{
 "cells": [
  {
   "cell_type": "code",
   "execution_count": 2,
   "id": "3bed76da",
   "metadata": {},
   "outputs": [
    {
     "name": "stderr",
     "output_type": "stream",
     "text": [
      "/Users/nyathirambugua/anaconda3/lib/python3.11/site-packages/pandas/core/arrays/masked.py:60: UserWarning: Pandas requires version '1.3.6' or newer of 'bottleneck' (version '1.3.5' currently installed).\n",
      "  from pandas.core import (\n"
     ]
    }
   ],
   "source": [
    "#libraries\n",
    "\n",
    "import pandas as pd\n",
    "import numpy as np\n",
    "import seaborn as sns\n",
    "import matplotlib.pyplot as plt\n",
    "\n",
    "from sklearn.ensemble import RandomForestRegressor\n"
   ]
  },
  {
   "cell_type": "code",
   "execution_count": 6,
   "id": "db898cdb",
   "metadata": {},
   "outputs": [
    {
     "data": {
      "text/html": [
       "<div>\n",
       "<style scoped>\n",
       "    .dataframe tbody tr th:only-of-type {\n",
       "        vertical-align: middle;\n",
       "    }\n",
       "\n",
       "    .dataframe tbody tr th {\n",
       "        vertical-align: top;\n",
       "    }\n",
       "\n",
       "    .dataframe thead th {\n",
       "        text-align: right;\n",
       "    }\n",
       "</style>\n",
       "<table border=\"1\" class=\"dataframe\">\n",
       "  <thead>\n",
       "    <tr style=\"text-align: right;\">\n",
       "      <th></th>\n",
       "      <th>RecordID</th>\n",
       "      <th>Country</th>\n",
       "      <th>Gender</th>\n",
       "      <th>Demographics Question</th>\n",
       "      <th>Demographics Response</th>\n",
       "      <th>Question</th>\n",
       "      <th>Survey Year</th>\n",
       "      <th>Value</th>\n",
       "    </tr>\n",
       "  </thead>\n",
       "  <tbody>\n",
       "    <tr>\n",
       "      <th>0</th>\n",
       "      <td>1</td>\n",
       "      <td>Afghanistan</td>\n",
       "      <td>F</td>\n",
       "      <td>Marital status</td>\n",
       "      <td>Never married</td>\n",
       "      <td>... if she burns the food</td>\n",
       "      <td>01/01/2015</td>\n",
       "      <td>NaN</td>\n",
       "    </tr>\n",
       "    <tr>\n",
       "      <th>1</th>\n",
       "      <td>1</td>\n",
       "      <td>Afghanistan</td>\n",
       "      <td>F</td>\n",
       "      <td>Education</td>\n",
       "      <td>Higher</td>\n",
       "      <td>... if she burns the food</td>\n",
       "      <td>01/01/2015</td>\n",
       "      <td>10.1</td>\n",
       "    </tr>\n",
       "    <tr>\n",
       "      <th>2</th>\n",
       "      <td>1</td>\n",
       "      <td>Afghanistan</td>\n",
       "      <td>F</td>\n",
       "      <td>Education</td>\n",
       "      <td>Secondary</td>\n",
       "      <td>... if she burns the food</td>\n",
       "      <td>01/01/2015</td>\n",
       "      <td>13.7</td>\n",
       "    </tr>\n",
       "    <tr>\n",
       "      <th>3</th>\n",
       "      <td>1</td>\n",
       "      <td>Afghanistan</td>\n",
       "      <td>F</td>\n",
       "      <td>Education</td>\n",
       "      <td>Primary</td>\n",
       "      <td>... if she burns the food</td>\n",
       "      <td>01/01/2015</td>\n",
       "      <td>13.8</td>\n",
       "    </tr>\n",
       "    <tr>\n",
       "      <th>4</th>\n",
       "      <td>1</td>\n",
       "      <td>Afghanistan</td>\n",
       "      <td>F</td>\n",
       "      <td>Marital status</td>\n",
       "      <td>Widowed, divorced, separated</td>\n",
       "      <td>... if she burns the food</td>\n",
       "      <td>01/01/2015</td>\n",
       "      <td>13.8</td>\n",
       "    </tr>\n",
       "    <tr>\n",
       "      <th>...</th>\n",
       "      <td>...</td>\n",
       "      <td>...</td>\n",
       "      <td>...</td>\n",
       "      <td>...</td>\n",
       "      <td>...</td>\n",
       "      <td>...</td>\n",
       "      <td>...</td>\n",
       "      <td>...</td>\n",
       "    </tr>\n",
       "    <tr>\n",
       "      <th>95</th>\n",
       "      <td>351</td>\n",
       "      <td>Afghanistan</td>\n",
       "      <td>F</td>\n",
       "      <td>Residence</td>\n",
       "      <td>Rural</td>\n",
       "      <td>... for at least one specific reason</td>\n",
       "      <td>01/01/2015</td>\n",
       "      <td>82.1</td>\n",
       "    </tr>\n",
       "    <tr>\n",
       "      <th>96</th>\n",
       "      <td>351</td>\n",
       "      <td>Afghanistan</td>\n",
       "      <td>F</td>\n",
       "      <td>Residence</td>\n",
       "      <td>Urban</td>\n",
       "      <td>... for at least one specific reason</td>\n",
       "      <td>01/01/2015</td>\n",
       "      <td>74.0</td>\n",
       "    </tr>\n",
       "    <tr>\n",
       "      <th>97</th>\n",
       "      <td>71</td>\n",
       "      <td>Afghanistan</td>\n",
       "      <td>F</td>\n",
       "      <td>Residence</td>\n",
       "      <td>Rural</td>\n",
       "      <td>... if she argues with him</td>\n",
       "      <td>01/01/2015</td>\n",
       "      <td>60.6</td>\n",
       "    </tr>\n",
       "    <tr>\n",
       "      <th>98</th>\n",
       "      <td>71</td>\n",
       "      <td>Afghanistan</td>\n",
       "      <td>F</td>\n",
       "      <td>Residence</td>\n",
       "      <td>Urban</td>\n",
       "      <td>... if she argues with him</td>\n",
       "      <td>01/01/2015</td>\n",
       "      <td>54.7</td>\n",
       "    </tr>\n",
       "    <tr>\n",
       "      <th>99</th>\n",
       "      <td>141</td>\n",
       "      <td>Afghanistan</td>\n",
       "      <td>F</td>\n",
       "      <td>Residence</td>\n",
       "      <td>Rural</td>\n",
       "      <td>... if she goes out without telling him</td>\n",
       "      <td>01/01/2015</td>\n",
       "      <td>69.3</td>\n",
       "    </tr>\n",
       "  </tbody>\n",
       "</table>\n",
       "<p>100 rows × 8 columns</p>\n",
       "</div>"
      ],
      "text/plain": [
       "    RecordID      Country Gender Demographics Question  \\\n",
       "0          1  Afghanistan      F        Marital status   \n",
       "1          1  Afghanistan      F             Education   \n",
       "2          1  Afghanistan      F             Education   \n",
       "3          1  Afghanistan      F             Education   \n",
       "4          1  Afghanistan      F        Marital status   \n",
       "..       ...          ...    ...                   ...   \n",
       "95       351  Afghanistan      F             Residence   \n",
       "96       351  Afghanistan      F             Residence   \n",
       "97        71  Afghanistan      F             Residence   \n",
       "98        71  Afghanistan      F             Residence   \n",
       "99       141  Afghanistan      F             Residence   \n",
       "\n",
       "           Demographics Response                                 Question  \\\n",
       "0                  Never married                ... if she burns the food   \n",
       "1                         Higher                ... if she burns the food   \n",
       "2                      Secondary                ... if she burns the food   \n",
       "3                        Primary                ... if she burns the food   \n",
       "4   Widowed, divorced, separated                ... if she burns the food   \n",
       "..                           ...                                      ...   \n",
       "95                         Rural     ... for at least one specific reason   \n",
       "96                         Urban     ... for at least one specific reason   \n",
       "97                         Rural               ... if she argues with him   \n",
       "98                         Urban               ... if she argues with him   \n",
       "99                         Rural  ... if she goes out without telling him   \n",
       "\n",
       "   Survey Year  Value  \n",
       "0   01/01/2015    NaN  \n",
       "1   01/01/2015   10.1  \n",
       "2   01/01/2015   13.7  \n",
       "3   01/01/2015   13.8  \n",
       "4   01/01/2015   13.8  \n",
       "..         ...    ...  \n",
       "95  01/01/2015   82.1  \n",
       "96  01/01/2015   74.0  \n",
       "97  01/01/2015   60.6  \n",
       "98  01/01/2015   54.7  \n",
       "99  01/01/2015   69.3  \n",
       "\n",
       "[100 rows x 8 columns]"
      ]
     },
     "execution_count": 6,
     "metadata": {},
     "output_type": "execute_result"
    }
   ],
   "source": [
    "df = pd.read_csv(\"violence_data.csv\")\n",
    "df.head(100)"
   ]
  },
  {
   "cell_type": "code",
   "execution_count": 5,
   "id": "1f3d138f",
   "metadata": {},
   "outputs": [
    {
     "data": {
      "text/plain": [
       "(12600, 8)"
      ]
     },
     "execution_count": 5,
     "metadata": {},
     "output_type": "execute_result"
    }
   ],
   "source": [
    "df.shape"
   ]
  },
  {
   "cell_type": "markdown",
   "id": "35aaebdd",
   "metadata": {},
   "source": [
    "We have 8 columns and 12600 records. This means we have 7 features, excluding the target, \"Value. Here is a document containing the list and description of all the features present in our database:\n",
    "\n",
    "\n",
    "\n",
    "Let's get a list of all the features. We also want gto find out those that have missing values and the data type of each column."
   ]
  },
  {
   "cell_type": "code",
   "execution_count": 7,
   "id": "8bef91ec",
   "metadata": {},
   "outputs": [
    {
     "name": "stdout",
     "output_type": "stream",
     "text": [
      "<class 'pandas.core.frame.DataFrame'>\n",
      "RangeIndex: 12600 entries, 0 to 12599\n",
      "Data columns (total 8 columns):\n",
      " #   Column                 Non-Null Count  Dtype  \n",
      "---  ------                 --------------  -----  \n",
      " 0   RecordID               12600 non-null  int64  \n",
      " 1   Country                12600 non-null  object \n",
      " 2   Gender                 12600 non-null  object \n",
      " 3   Demographics Question  12600 non-null  object \n",
      " 4   Demographics Response  12600 non-null  object \n",
      " 5   Question               12600 non-null  object \n",
      " 6   Survey Year            12600 non-null  object \n",
      " 7   Value                  11187 non-null  float64\n",
      "dtypes: float64(1), int64(1), object(6)\n",
      "memory usage: 787.6+ KB\n"
     ]
    }
   ],
   "source": [
    "df.info()"
   ]
  },
  {
   "cell_type": "markdown",
   "id": "df57b172",
   "metadata": {},
   "source": [
    "We can see that there are some null values in the Value column? Could this be situations where no one of the given demographic agreed with the reason?\n",
    "\n",
    "To help us confirm this, let's first look at descriptive statistsics"
   ]
  },
  {
   "cell_type": "code",
   "execution_count": 17,
   "id": "1bd63640",
   "metadata": {},
   "outputs": [
    {
     "data": {
      "text/plain": [
       "count    11187.000000\n",
       "mean        19.762537\n",
       "std         16.986437\n",
       "min          0.000000\n",
       "25%          6.200000\n",
       "50%         14.900000\n",
       "75%         29.200000\n",
       "max         86.900000\n",
       "Name: Value, dtype: float64"
      ]
     },
     "execution_count": 17,
     "metadata": {},
     "output_type": "execute_result"
    }
   ],
   "source": [
    "df[\"Value\"].describe()"
   ]
  },
  {
   "cell_type": "markdown",
   "id": "dab8471d",
   "metadata": {},
   "source": [
    "from that- we can see that the min value is 0, meaning if no one agreed \", a value of 0 was given. Hence, null values are just a case of missing values. \n",
    "\n",
    "Let's try and investigate. We will create a function, that filters for null values that belong to a particular country. So the parameter will be country, and the argument passed when calling the function will be the actual name of the country we want to filter.  "
   ]
  },
  {
   "cell_type": "code",
   "execution_count": 47,
   "id": "8f5f13f5",
   "metadata": {},
   "outputs": [],
   "source": [
    "# Define the function to filter for rows with missing values for a given country.\n",
    "def filter_nulls_by_country(dataframe, country):\n",
    "    \n",
    "    nulls_df = dataframe[(dataframe['Value'].isnull()) & (dataframe['Country'] == country)]\n",
    "    \n",
    "    return nulls_df"
   ]
  },
  {
   "cell_type": "code",
   "execution_count": 48,
   "id": "17bc4266",
   "metadata": {},
   "outputs": [
    {
     "data": {
      "text/html": [
       "<div>\n",
       "<style scoped>\n",
       "    .dataframe tbody tr th:only-of-type {\n",
       "        vertical-align: middle;\n",
       "    }\n",
       "\n",
       "    .dataframe tbody tr th {\n",
       "        vertical-align: top;\n",
       "    }\n",
       "\n",
       "    .dataframe thead th {\n",
       "        text-align: right;\n",
       "    }\n",
       "</style>\n",
       "<table border=\"1\" class=\"dataframe\">\n",
       "  <thead>\n",
       "    <tr style=\"text-align: right;\">\n",
       "      <th></th>\n",
       "      <th>RecordID</th>\n",
       "      <th>Country</th>\n",
       "      <th>Gender</th>\n",
       "      <th>Demographics Question</th>\n",
       "      <th>Demographics Response</th>\n",
       "      <th>Question</th>\n",
       "      <th>Survey Year</th>\n",
       "      <th>Value</th>\n",
       "    </tr>\n",
       "  </thead>\n",
       "  <tbody>\n",
       "    <tr>\n",
       "      <th>12150</th>\n",
       "      <td>418</td>\n",
       "      <td>Yemen</td>\n",
       "      <td>M</td>\n",
       "      <td>Age</td>\n",
       "      <td>15-24</td>\n",
       "      <td>... for at least one specific reason</td>\n",
       "      <td>01/01/2013</td>\n",
       "      <td>NaN</td>\n",
       "    </tr>\n",
       "    <tr>\n",
       "      <th>12151</th>\n",
       "      <td>418</td>\n",
       "      <td>Yemen</td>\n",
       "      <td>M</td>\n",
       "      <td>Age</td>\n",
       "      <td>25-34</td>\n",
       "      <td>... for at least one specific reason</td>\n",
       "      <td>01/01/2013</td>\n",
       "      <td>NaN</td>\n",
       "    </tr>\n",
       "    <tr>\n",
       "      <th>12152</th>\n",
       "      <td>418</td>\n",
       "      <td>Yemen</td>\n",
       "      <td>M</td>\n",
       "      <td>Age</td>\n",
       "      <td>35-49</td>\n",
       "      <td>... for at least one specific reason</td>\n",
       "      <td>01/01/2013</td>\n",
       "      <td>NaN</td>\n",
       "    </tr>\n",
       "    <tr>\n",
       "      <th>12153</th>\n",
       "      <td>138</td>\n",
       "      <td>Yemen</td>\n",
       "      <td>M</td>\n",
       "      <td>Age</td>\n",
       "      <td>15-24</td>\n",
       "      <td>... if she argues with him</td>\n",
       "      <td>01/01/2013</td>\n",
       "      <td>NaN</td>\n",
       "    </tr>\n",
       "    <tr>\n",
       "      <th>12154</th>\n",
       "      <td>138</td>\n",
       "      <td>Yemen</td>\n",
       "      <td>M</td>\n",
       "      <td>Age</td>\n",
       "      <td>25-34</td>\n",
       "      <td>... if she argues with him</td>\n",
       "      <td>01/01/2013</td>\n",
       "      <td>NaN</td>\n",
       "    </tr>\n",
       "    <tr>\n",
       "      <th>...</th>\n",
       "      <td>...</td>\n",
       "      <td>...</td>\n",
       "      <td>...</td>\n",
       "      <td>...</td>\n",
       "      <td>...</td>\n",
       "      <td>...</td>\n",
       "      <td>...</td>\n",
       "      <td>...</td>\n",
       "    </tr>\n",
       "    <tr>\n",
       "      <th>12235</th>\n",
       "      <td>208</td>\n",
       "      <td>Yemen</td>\n",
       "      <td>M</td>\n",
       "      <td>Residence</td>\n",
       "      <td>Urban</td>\n",
       "      <td>... if she goes out without telling him</td>\n",
       "      <td>01/01/2013</td>\n",
       "      <td>NaN</td>\n",
       "    </tr>\n",
       "    <tr>\n",
       "      <th>12236</th>\n",
       "      <td>278</td>\n",
       "      <td>Yemen</td>\n",
       "      <td>M</td>\n",
       "      <td>Residence</td>\n",
       "      <td>Rural</td>\n",
       "      <td>... if she neglects the children</td>\n",
       "      <td>01/01/2013</td>\n",
       "      <td>NaN</td>\n",
       "    </tr>\n",
       "    <tr>\n",
       "      <th>12237</th>\n",
       "      <td>278</td>\n",
       "      <td>Yemen</td>\n",
       "      <td>M</td>\n",
       "      <td>Residence</td>\n",
       "      <td>Urban</td>\n",
       "      <td>... if she neglects the children</td>\n",
       "      <td>01/01/2013</td>\n",
       "      <td>NaN</td>\n",
       "    </tr>\n",
       "    <tr>\n",
       "      <th>12238</th>\n",
       "      <td>348</td>\n",
       "      <td>Yemen</td>\n",
       "      <td>M</td>\n",
       "      <td>Residence</td>\n",
       "      <td>Rural</td>\n",
       "      <td>... if she refuses to have sex with him</td>\n",
       "      <td>01/01/2013</td>\n",
       "      <td>NaN</td>\n",
       "    </tr>\n",
       "    <tr>\n",
       "      <th>12239</th>\n",
       "      <td>348</td>\n",
       "      <td>Yemen</td>\n",
       "      <td>M</td>\n",
       "      <td>Residence</td>\n",
       "      <td>Urban</td>\n",
       "      <td>... if she refuses to have sex with him</td>\n",
       "      <td>01/01/2013</td>\n",
       "      <td>NaN</td>\n",
       "    </tr>\n",
       "  </tbody>\n",
       "</table>\n",
       "<p>90 rows × 8 columns</p>\n",
       "</div>"
      ],
      "text/plain": [
       "       RecordID Country Gender Demographics Question Demographics Response  \\\n",
       "12150       418   Yemen      M                   Age                 15-24   \n",
       "12151       418   Yemen      M                   Age                 25-34   \n",
       "12152       418   Yemen      M                   Age                 35-49   \n",
       "12153       138   Yemen      M                   Age                 15-24   \n",
       "12154       138   Yemen      M                   Age                 25-34   \n",
       "...         ...     ...    ...                   ...                   ...   \n",
       "12235       208   Yemen      M             Residence                 Urban   \n",
       "12236       278   Yemen      M             Residence                 Rural   \n",
       "12237       278   Yemen      M             Residence                 Urban   \n",
       "12238       348   Yemen      M             Residence                 Rural   \n",
       "12239       348   Yemen      M             Residence                 Urban   \n",
       "\n",
       "                                      Question Survey Year  Value  \n",
       "12150     ... for at least one specific reason  01/01/2013    NaN  \n",
       "12151     ... for at least one specific reason  01/01/2013    NaN  \n",
       "12152     ... for at least one specific reason  01/01/2013    NaN  \n",
       "12153               ... if she argues with him  01/01/2013    NaN  \n",
       "12154               ... if she argues with him  01/01/2013    NaN  \n",
       "...                                        ...         ...    ...  \n",
       "12235  ... if she goes out without telling him  01/01/2013    NaN  \n",
       "12236         ... if she neglects the children  01/01/2013    NaN  \n",
       "12237         ... if she neglects the children  01/01/2013    NaN  \n",
       "12238  ... if she refuses to have sex with him  01/01/2013    NaN  \n",
       "12239  ... if she refuses to have sex with him  01/01/2013    NaN  \n",
       "\n",
       "[90 rows x 8 columns]"
      ]
     },
     "execution_count": 48,
     "metadata": {},
     "output_type": "execute_result"
    }
   ],
   "source": [
    "filter_nulls_by_country(df, 'Yemen')"
   ]
  },
  {
   "cell_type": "markdown",
   "id": "80d03ae7",
   "metadata": {},
   "source": [
    "We can see particular patterns in the missing values, for example:\n",
    "\n",
    "Afghansitan+marital status+never married+2015\n",
    "yemem+2013\n",
    "\n",
    "there are certain factors that might have led to this....\n",
    "\n",
    "leave as Nan because will be treated as numeric…proceed with analysis as is for now"
   ]
  },
  {
   "cell_type": "markdown",
   "id": "80162e8c",
   "metadata": {},
   "source": [
    "from the descriptive statistics, we can also Interpret:\n",
    "- Great/ moderate variation in the data?\n",
    "- 75% of the data, value between 0 and 29.2. We can see that there are reasons + demographic \" that score significantly higher than the rest, given that max value is 86.9."
   ]
  },
  {
   "cell_type": "markdown",
   "id": "27dbb2df",
   "metadata": {},
   "source": [
    "get a better understanding/ Look at the distribution of our target variable:"
   ]
  },
  {
   "cell_type": "code",
   "execution_count": 19,
   "id": "f2a0576f",
   "metadata": {},
   "outputs": [
    {
     "data": {
      "text/plain": [
       "(array([3743., 2416., 1750., 1194.,  773.,  653.,  360.,  180.,   93.,\n",
       "          25.]),\n",
       " array([ 0.  ,  8.69, 17.38, 26.07, 34.76, 43.45, 52.14, 60.83, 69.52,\n",
       "        78.21, 86.9 ]),\n",
       " <BarContainer object of 10 artists>)"
      ]
     },
     "execution_count": 19,
     "metadata": {},
     "output_type": "execute_result"
    },
    {
     "data": {
      "image/png": "[encoded data removed]",
      "text/plain": [
       "<Figure size 640x480 with 1 Axes>"
      ]
     },
     "metadata": {},
     "output_type": "display_data"
    }
   ],
   "source": [
    "plt.hist(df[\"Value\"])"
   ]
  },
  {
   "cell_type": "markdown",
   "id": "3bad0c52",
   "metadata": {},
   "source": [
    "We can see that there are outliers that skew the data to the right. We shall investigate the the justification and demographic characteristics that are responsible for this."
   ]
  },
  {
   "cell_type": "markdown",
   "id": "122e9b83",
   "metadata": {},
   "source": [
    "Let's remove duplicates:"
   ]
  },
  {
   "cell_type": "code",
   "execution_count": 20,
   "id": "bc0aadfc",
   "metadata": {},
   "outputs": [
    {
     "data": {
      "text/plain": [
       "(12600, 8)"
      ]
     },
     "execution_count": 20,
     "metadata": {},
     "output_type": "execute_result"
    }
   ],
   "source": [
    "df = df.drop_duplicates()\n",
    "df.shape"
   ]
  },
  {
   "cell_type": "markdown",
   "id": "ae6f8d1e",
   "metadata": {},
   "source": [
    "The shape remains the same indicating that there were no duplicates in our dataset"
   ]
  },
  {
   "cell_type": "markdown",
   "id": "2afc51da",
   "metadata": {},
   "source": [
    "check for cardinality in the categorical columns:"
   ]
  },
  {
   "cell_type": "code",
   "execution_count": 8,
   "id": "2728e39f",
   "metadata": {},
   "outputs": [
    {
     "data": {
      "text/plain": [
       "Country                  70\n",
       "Gender                    2\n",
       "Demographics Question     5\n",
       "Demographics Response    15\n",
       "Question                  6\n",
       "Survey Year              18\n",
       "dtype: int64"
      ]
     },
     "execution_count": 8,
     "metadata": {},
     "output_type": "execute_result"
    }
   ],
   "source": [
    "df.select_dtypes(include=\"object\").nunique()"
   ]
  },
  {
   "cell_type": "markdown",
   "id": "30584b53",
   "metadata": {},
   "source": [
    "We have a whooping 70 countries represented in our dataset. It also seems our data spans 18 years?\n",
    "\n",
    "Let's have a look at which countries these are:"
   ]
  },
  {
   "cell_type": "code",
   "execution_count": 21,
   "id": "bb85b86a",
   "metadata": {},
   "outputs": [
    {
     "data": {
      "text/plain": [
       "array(['Afghanistan', 'Albania', 'Angola', 'Armenia', 'Azerbaijan',\n",
       "       'Bangladesh', 'Benin', 'Bolivia', 'Burkina Faso', 'Burundi',\n",
       "       'Cambodia', 'Cameroon', 'Chad', 'Colombia', 'Comoros', 'Congo',\n",
       "       'Congo Democratic Republic', \"Cote d'Ivoire\", 'Dominican Republic',\n",
       "       'Egypt', 'Eritrea', 'Eswatini', 'Ethiopia', 'Gabon', 'Gambia',\n",
       "       'Ghana', 'Guatemala', 'Guinea', 'Guyana', 'Haiti', 'Honduras',\n",
       "       'India', 'Indonesia', 'Jordan', 'Kenya', 'Kyrgyz Republic',\n",
       "       'Lesotho', 'Liberia', 'Madagascar', 'Malawi', 'Maldives', 'Mali',\n",
       "       'Moldova', 'Morocco', 'Mozambique', 'Myanmar', 'Namibia', 'Nepal',\n",
       "       'Nicaragua', 'Niger', 'Nigeria', 'Pakistan', 'Peru', 'Philippines',\n",
       "       'Rwanda', 'Sao Tome and Principe', 'Senegal', 'Sierra Leone',\n",
       "       'South Africa', 'Tajikistan', 'Tanzania', 'Timor-Leste', 'Togo',\n",
       "       'Turkey', 'Turkmenistan', 'Uganda', 'Ukraine', 'Yemen', 'Zambia',\n",
       "       'Zimbabwe'], dtype=object)"
      ]
     },
     "execution_count": 21,
     "metadata": {},
     "output_type": "execute_result"
    }
   ],
   "source": [
    "df[\"Country\"].unique()"
   ]
  },
  {
   "cell_type": "markdown",
   "id": "1f15a034",
   "metadata": {},
   "source": [
    "It seems our data spans various countries, from various continents. To reduce scope, since the dataset contains alot of records, we want to filter for records that are related to African countries."
   ]
  },
  {
   "cell_type": "code",
   "execution_count": 38,
   "id": "b0464d9c",
   "metadata": {},
   "outputs": [],
   "source": [
    "# List of African countries\n",
    "african_countries = [\n",
    "    'Angola', 'Benin', 'Burkina Faso', 'Burundi', 'Cameroon', 'Chad',\n",
    "    'Comoros', 'Congo', 'Congo Democratic Republic', \"Cote d'Ivoire\", \n",
    "    'Egypt', 'Eritrea', 'Eswatini', 'Ethiopia', 'Gabon', 'Gambia', \n",
    "    'Ghana', 'Guinea', 'Kenya', 'Lesotho', 'Liberia', 'Madagascar', \n",
    "    'Malawi', 'Mali', 'Morocco', 'Mozambique', 'Namibia', 'Niger', \n",
    "    'Nigeria', 'Rwanda', 'Sao Tome and Principe', 'Senegal', \n",
    "    'Sierra Leone', 'South Africa', 'Tanzania', 'Togo', 'Uganda', \n",
    "    'Zambia', 'Zimbabwe'\n",
    "]\n",
    "\n",
    "# Filter for records related to African countries\n",
    "df_africa = df[df['Country'].isin(african_countries)].reset_index(drop=True)"
   ]
  },
  {
   "cell_type": "code",
   "execution_count": 39,
   "id": "00b8bcb6",
   "metadata": {},
   "outputs": [
    {
     "data": {
      "text/html": [
       "<div>\n",
       "<style scoped>\n",
       "    .dataframe tbody tr th:only-of-type {\n",
       "        vertical-align: middle;\n",
       "    }\n",
       "\n",
       "    .dataframe tbody tr th {\n",
       "        vertical-align: top;\n",
       "    }\n",
       "\n",
       "    .dataframe thead th {\n",
       "        text-align: right;\n",
       "    }\n",
       "</style>\n",
       "<table border=\"1\" class=\"dataframe\">\n",
       "  <thead>\n",
       "    <tr style=\"text-align: right;\">\n",
       "      <th></th>\n",
       "      <th>RecordID</th>\n",
       "      <th>Country</th>\n",
       "      <th>Gender</th>\n",
       "      <th>Demographics Question</th>\n",
       "      <th>Demographics Response</th>\n",
       "      <th>Question</th>\n",
       "      <th>Survey Year</th>\n",
       "      <th>Value</th>\n",
       "    </tr>\n",
       "  </thead>\n",
       "  <tbody>\n",
       "    <tr>\n",
       "      <th>0</th>\n",
       "      <td>3</td>\n",
       "      <td>Angola</td>\n",
       "      <td>F</td>\n",
       "      <td>Education</td>\n",
       "      <td>Higher</td>\n",
       "      <td>... if she burns the food</td>\n",
       "      <td>01/01/2015</td>\n",
       "      <td>0.9</td>\n",
       "    </tr>\n",
       "    <tr>\n",
       "      <th>1</th>\n",
       "      <td>3</td>\n",
       "      <td>Angola</td>\n",
       "      <td>F</td>\n",
       "      <td>Education</td>\n",
       "      <td>Secondary</td>\n",
       "      <td>... if she burns the food</td>\n",
       "      <td>01/01/2015</td>\n",
       "      <td>5.3</td>\n",
       "    </tr>\n",
       "    <tr>\n",
       "      <th>2</th>\n",
       "      <td>3</td>\n",
       "      <td>Angola</td>\n",
       "      <td>F</td>\n",
       "      <td>Residence</td>\n",
       "      <td>Urban</td>\n",
       "      <td>... if she burns the food</td>\n",
       "      <td>01/01/2015</td>\n",
       "      <td>6.9</td>\n",
       "    </tr>\n",
       "    <tr>\n",
       "      <th>3</th>\n",
       "      <td>3</td>\n",
       "      <td>Angola</td>\n",
       "      <td>F</td>\n",
       "      <td>Employment</td>\n",
       "      <td>Unemployed</td>\n",
       "      <td>... if she burns the food</td>\n",
       "      <td>01/01/2015</td>\n",
       "      <td>8.8</td>\n",
       "    </tr>\n",
       "    <tr>\n",
       "      <th>4</th>\n",
       "      <td>3</td>\n",
       "      <td>Angola</td>\n",
       "      <td>F</td>\n",
       "      <td>Marital status</td>\n",
       "      <td>Never married</td>\n",
       "      <td>... if she burns the food</td>\n",
       "      <td>01/01/2015</td>\n",
       "      <td>9.8</td>\n",
       "    </tr>\n",
       "    <tr>\n",
       "      <th>5</th>\n",
       "      <td>3</td>\n",
       "      <td>Angola</td>\n",
       "      <td>F</td>\n",
       "      <td>Employment</td>\n",
       "      <td>Employed for cash</td>\n",
       "      <td>... if she burns the food</td>\n",
       "      <td>01/01/2015</td>\n",
       "      <td>9.9</td>\n",
       "    </tr>\n",
       "    <tr>\n",
       "      <th>6</th>\n",
       "      <td>3</td>\n",
       "      <td>Angola</td>\n",
       "      <td>F</td>\n",
       "      <td>Age</td>\n",
       "      <td>25-34</td>\n",
       "      <td>... if she burns the food</td>\n",
       "      <td>01/01/2015</td>\n",
       "      <td>10.0</td>\n",
       "    </tr>\n",
       "    <tr>\n",
       "      <th>7</th>\n",
       "      <td>3</td>\n",
       "      <td>Angola</td>\n",
       "      <td>F</td>\n",
       "      <td>Age</td>\n",
       "      <td>15-24</td>\n",
       "      <td>... if she burns the food</td>\n",
       "      <td>01/01/2015</td>\n",
       "      <td>10.6</td>\n",
       "    </tr>\n",
       "    <tr>\n",
       "      <th>8</th>\n",
       "      <td>3</td>\n",
       "      <td>Angola</td>\n",
       "      <td>F</td>\n",
       "      <td>Marital status</td>\n",
       "      <td>Married or living together</td>\n",
       "      <td>... if she burns the food</td>\n",
       "      <td>01/01/2015</td>\n",
       "      <td>10.8</td>\n",
       "    </tr>\n",
       "    <tr>\n",
       "      <th>9</th>\n",
       "      <td>3</td>\n",
       "      <td>Angola</td>\n",
       "      <td>F</td>\n",
       "      <td>Age</td>\n",
       "      <td>35-49</td>\n",
       "      <td>... if she burns the food</td>\n",
       "      <td>01/01/2015</td>\n",
       "      <td>11.0</td>\n",
       "    </tr>\n",
       "  </tbody>\n",
       "</table>\n",
       "</div>"
      ],
      "text/plain": [
       "   RecordID Country Gender Demographics Question       Demographics Response  \\\n",
       "0         3  Angola      F             Education                      Higher   \n",
       "1         3  Angola      F             Education                   Secondary   \n",
       "2         3  Angola      F             Residence                       Urban   \n",
       "3         3  Angola      F            Employment                  Unemployed   \n",
       "4         3  Angola      F        Marital status               Never married   \n",
       "5         3  Angola      F            Employment           Employed for cash   \n",
       "6         3  Angola      F                   Age                       25-34   \n",
       "7         3  Angola      F                   Age                       15-24   \n",
       "8         3  Angola      F        Marital status  Married or living together   \n",
       "9         3  Angola      F                   Age                       35-49   \n",
       "\n",
       "                    Question Survey Year  Value  \n",
       "0  ... if she burns the food  01/01/2015    0.9  \n",
       "1  ... if she burns the food  01/01/2015    5.3  \n",
       "2  ... if she burns the food  01/01/2015    6.9  \n",
       "3  ... if she burns the food  01/01/2015    8.8  \n",
       "4  ... if she burns the food  01/01/2015    9.8  \n",
       "5  ... if she burns the food  01/01/2015    9.9  \n",
       "6  ... if she burns the food  01/01/2015   10.0  \n",
       "7  ... if she burns the food  01/01/2015   10.6  \n",
       "8  ... if she burns the food  01/01/2015   10.8  \n",
       "9  ... if she burns the food  01/01/2015   11.0  "
      ]
     },
     "execution_count": 39,
     "metadata": {},
     "output_type": "execute_result"
    }
   ],
   "source": [
    "df_africa.head(10)"
   ]
  },
  {
   "cell_type": "code",
   "execution_count": 40,
   "id": "f1d2bad2",
   "metadata": {},
   "outputs": [
    {
     "name": "stdout",
     "output_type": "stream",
     "text": [
      "No. of countries: 39\n",
      "Dataset shape: (7020, 8)\n",
      "<class 'pandas.core.frame.DataFrame'>\n",
      "RangeIndex: 7020 entries, 0 to 7019\n",
      "Data columns (total 8 columns):\n",
      " #   Column                 Non-Null Count  Dtype  \n",
      "---  ------                 --------------  -----  \n",
      " 0   RecordID               7020 non-null   int64  \n",
      " 1   Country                7020 non-null   object \n",
      " 2   Gender                 7020 non-null   object \n",
      " 3   Demographics Question  7020 non-null   object \n",
      " 4   Demographics Response  7020 non-null   object \n",
      " 5   Question               7020 non-null   object \n",
      " 6   Survey Year            7020 non-null   object \n",
      " 7   Value                  6672 non-null   float64\n",
      "dtypes: float64(1), int64(1), object(6)\n",
      "memory usage: 438.9+ KB\n",
      "None\n"
     ]
    }
   ],
   "source": [
    "print(\"No. of countries:\", df_africa[\"Country\"].nunique())\n",
    "print(\"Dataset shape:\", df_africa.shape)\n",
    "print(df_africa.info())"
   ]
  },
  {
   "cell_type": "markdown",
   "id": "e3b096e2",
   "metadata": {},
   "source": [
    "We are now down to 7020 records, spanning across 39 various African countries. It seems we have reduced our data to about half.\n",
    "\n",
    "We note that missing values have persisted even in our reduced dataset, about 350. Let's investigate whether there is a patterrn just like we did with the larger dataset, using the same function:"
   ]
  },
  {
   "cell_type": "code",
   "execution_count": 49,
   "id": "87c400e0",
   "metadata": {},
   "outputs": [
    {
     "data": {
      "text/html": [
       "<div>\n",
       "<style scoped>\n",
       "    .dataframe tbody tr th:only-of-type {\n",
       "        vertical-align: middle;\n",
       "    }\n",
       "\n",
       "    .dataframe tbody tr th {\n",
       "        vertical-align: top;\n",
       "    }\n",
       "\n",
       "    .dataframe thead th {\n",
       "        text-align: right;\n",
       "    }\n",
       "</style>\n",
       "<table border=\"1\" class=\"dataframe\">\n",
       "  <thead>\n",
       "    <tr style=\"text-align: right;\">\n",
       "      <th></th>\n",
       "      <th>RecordID</th>\n",
       "      <th>Country</th>\n",
       "      <th>Gender</th>\n",
       "      <th>Demographics Question</th>\n",
       "      <th>Demographics Response</th>\n",
       "      <th>Question</th>\n",
       "      <th>Survey Year</th>\n",
       "      <th>Value</th>\n",
       "    </tr>\n",
       "  </thead>\n",
       "  <tbody>\n",
       "    <tr>\n",
       "      <th>6073</th>\n",
       "      <td>409</td>\n",
       "      <td>South Africa</td>\n",
       "      <td>M</td>\n",
       "      <td>Employment</td>\n",
       "      <td>Employed for kind</td>\n",
       "      <td>... for at least one specific reason</td>\n",
       "      <td>01/01/2016</td>\n",
       "      <td>NaN</td>\n",
       "    </tr>\n",
       "    <tr>\n",
       "      <th>6076</th>\n",
       "      <td>129</td>\n",
       "      <td>South Africa</td>\n",
       "      <td>M</td>\n",
       "      <td>Employment</td>\n",
       "      <td>Employed for kind</td>\n",
       "      <td>... if she argues with him</td>\n",
       "      <td>01/01/2016</td>\n",
       "      <td>NaN</td>\n",
       "    </tr>\n",
       "    <tr>\n",
       "      <th>6079</th>\n",
       "      <td>59</td>\n",
       "      <td>South Africa</td>\n",
       "      <td>M</td>\n",
       "      <td>Employment</td>\n",
       "      <td>Employed for kind</td>\n",
       "      <td>... if she burns the food</td>\n",
       "      <td>01/01/2016</td>\n",
       "      <td>NaN</td>\n",
       "    </tr>\n",
       "    <tr>\n",
       "      <th>6082</th>\n",
       "      <td>199</td>\n",
       "      <td>South Africa</td>\n",
       "      <td>M</td>\n",
       "      <td>Employment</td>\n",
       "      <td>Employed for kind</td>\n",
       "      <td>... if she goes out without telling him</td>\n",
       "      <td>01/01/2016</td>\n",
       "      <td>NaN</td>\n",
       "    </tr>\n",
       "    <tr>\n",
       "      <th>6085</th>\n",
       "      <td>269</td>\n",
       "      <td>South Africa</td>\n",
       "      <td>M</td>\n",
       "      <td>Employment</td>\n",
       "      <td>Employed for kind</td>\n",
       "      <td>... if she neglects the children</td>\n",
       "      <td>01/01/2016</td>\n",
       "      <td>NaN</td>\n",
       "    </tr>\n",
       "    <tr>\n",
       "      <th>6088</th>\n",
       "      <td>339</td>\n",
       "      <td>South Africa</td>\n",
       "      <td>M</td>\n",
       "      <td>Employment</td>\n",
       "      <td>Employed for kind</td>\n",
       "      <td>... if she refuses to have sex with him</td>\n",
       "      <td>01/01/2016</td>\n",
       "      <td>NaN</td>\n",
       "    </tr>\n",
       "  </tbody>\n",
       "</table>\n",
       "</div>"
      ],
      "text/plain": [
       "      RecordID       Country Gender Demographics Question  \\\n",
       "6073       409  South Africa      M            Employment   \n",
       "6076       129  South Africa      M            Employment   \n",
       "6079        59  South Africa      M            Employment   \n",
       "6082       199  South Africa      M            Employment   \n",
       "6085       269  South Africa      M            Employment   \n",
       "6088       339  South Africa      M            Employment   \n",
       "\n",
       "     Demographics Response                                 Question  \\\n",
       "6073     Employed for kind     ... for at least one specific reason   \n",
       "6076     Employed for kind               ... if she argues with him   \n",
       "6079     Employed for kind                ... if she burns the food   \n",
       "6082     Employed for kind  ... if she goes out without telling him   \n",
       "6085     Employed for kind         ... if she neglects the children   \n",
       "6088     Employed for kind  ... if she refuses to have sex with him   \n",
       "\n",
       "     Survey Year  Value  \n",
       "6073  01/01/2016    NaN  \n",
       "6076  01/01/2016    NaN  \n",
       "6079  01/01/2016    NaN  \n",
       "6082  01/01/2016    NaN  \n",
       "6085  01/01/2016    NaN  \n",
       "6088  01/01/2016    NaN  "
      ]
     },
     "execution_count": 49,
     "metadata": {},
     "output_type": "execute_result"
    }
   ],
   "source": [
    "filter_nulls_by_country(df_africa, 'South Africa')"
   ]
  },
  {
   "cell_type": "markdown",
   "id": "e96b154f",
   "metadata": {},
   "source": [
    "Congo - missing values for 2011\n",
    "South Africa - 2016+ those eomployed for kind\n",
    "\n",
    "there are certain factors that might have led to this....\n",
    "\n",
    "leave as Nan because will be treated as numeric…proceed with analysis as is for now"
   ]
  },
  {
   "cell_type": "code",
   "execution_count": 50,
   "id": "4a9111e1",
   "metadata": {},
   "outputs": [
    {
     "data": {
      "text/plain": [
       "count    6672.000000\n",
       "mean       22.347662\n",
       "std        16.534109\n",
       "min         0.000000\n",
       "25%         8.900000\n",
       "50%        18.600000\n",
       "75%        32.100000\n",
       "max        86.100000\n",
       "Name: Value, dtype: float64"
      ]
     },
     "execution_count": 50,
     "metadata": {},
     "output_type": "execute_result"
    }
   ],
   "source": [
    "df_africa[\"Value\"].describe()"
   ]
  },
  {
   "cell_type": "markdown",
   "id": "4f7a1506",
   "metadata": {},
   "source": [
    "From the descriptive statistics, we can also Interpret:\n",
    "\n",
    "Great/ moderate variation in the data?\n",
    "75% of the data, value between 0 and 32.1. We can see that there are reasons + demographic \" that score significantly higher than the rest, given that max value is 86.1.\n",
    "\n",
    "get a better understanding/ Look at the distribution of our target variable:"
   ]
  },
  {
   "cell_type": "code",
   "execution_count": 52,
   "id": "379896e7",
   "metadata": {},
   "outputs": [
    {
     "data": {
      "text/plain": [
       "(array([1598., 1532., 1237.,  844.,  562.,  459.,  243.,  117.,   64.,\n",
       "          16.]),\n",
       " array([ 0.  ,  8.61, 17.22, 25.83, 34.44, 43.05, 51.66, 60.27, 68.88,\n",
       "        77.49, 86.1 ]),\n",
       " <BarContainer object of 10 artists>)"
      ]
     },
     "execution_count": 52,
     "metadata": {},
     "output_type": "execute_result"
    },
    {
     "data": {
      "image/png": "[encoded data removed]",
      "text/plain": [
       "<Figure size 640x480 with 1 Axes>"
      ]
     },
     "metadata": {},
     "output_type": "display_data"
    }
   ],
   "source": [
    "plt.hist(df_africa[\"Value\"])"
   ]
  },
  {
   "cell_type": "markdown",
   "id": "49f4f81a",
   "metadata": {},
   "source": [
    "We can see that there are outliers that skew the data to the right. We shall investigate the the justification and demographic characteristics that are responsible for this."
   ]
  },
  {
   "cell_type": "markdown",
   "id": "12818b8c",
   "metadata": {},
   "source": [
    "Let's remove any duplicates that maybe present:"
   ]
  },
  {
   "cell_type": "code",
   "execution_count": 54,
   "id": "a2a39f1c",
   "metadata": {},
   "outputs": [
    {
     "data": {
      "text/plain": [
       "(7020, 8)"
      ]
     },
     "execution_count": 54,
     "metadata": {},
     "output_type": "execute_result"
    }
   ],
   "source": [
    "df_africa = df_africa.drop_duplicates()\n",
    "df_africa.shape"
   ]
  },
  {
   "cell_type": "markdown",
   "id": "de050ea7",
   "metadata": {},
   "source": [
    "The shape remains the same indicating that there were no duplicates in our dataset"
   ]
  },
  {
   "cell_type": "markdown",
   "id": "31475efd",
   "metadata": {},
   "source": [
    "check for cardinality in the categorical columns:"
   ]
  },
  {
   "cell_type": "code",
   "execution_count": 56,
   "id": "704a5a85",
   "metadata": {},
   "outputs": [
    {
     "data": {
      "text/plain": [
       "Country                  39\n",
       "Gender                    2\n",
       "Demographics Question     5\n",
       "Demographics Response    15\n",
       "Question                  6\n",
       "Survey Year              13\n",
       "dtype: int64"
      ]
     },
     "execution_count": 56,
     "metadata": {},
     "output_type": "execute_result"
    }
   ],
   "source": [
    "df_africa.select_dtypes(include=\"object\").nunique()"
   ]
  },
  {
   "cell_type": "code",
   "execution_count": 58,
   "id": "6c0d29e3",
   "metadata": {},
   "outputs": [
    {
     "data": {
      "text/plain": [
       "array(['01/01/2015', '01/01/2017', '01/01/2010', '01/01/2016',\n",
       "       '01/01/2011', '01/01/2014', '01/01/2012', '01/01/2013',\n",
       "       '01/01/2002', '01/01/2006', '01/01/2018', '01/01/2008',\n",
       "       '01/01/2003'], dtype=object)"
      ]
     },
     "execution_count": 58,
     "metadata": {},
     "output_type": "execute_result"
    }
   ],
   "source": [
    "df_africa[\"Survey Year\"].unique()"
   ]
  },
  {
   "cell_type": "markdown",
   "id": "e707fbfc",
   "metadata": {},
   "source": [
    "year span, not neccessary to have date and month part (cumbersome)"
   ]
  },
  {
   "cell_type": "code",
   "execution_count": 59,
   "id": "0e3974c6",
   "metadata": {},
   "outputs": [
    {
     "data": {
      "text/plain": [
       "array(['Education', 'Residence', 'Employment', 'Marital status', 'Age'],\n",
       "      dtype=object)"
      ]
     },
     "execution_count": 59,
     "metadata": {},
     "output_type": "execute_result"
    }
   ],
   "source": [
    "df_africa[\"Demographics Question\"].unique()"
   ]
  },
  {
   "cell_type": "code",
   "execution_count": 60,
   "id": "b98436ac",
   "metadata": {},
   "outputs": [
    {
     "data": {
      "text/plain": [
       "array(['Higher', 'Secondary', 'Urban', 'Unemployed', 'Never married',\n",
       "       'Employed for cash', '25-34', '15-24',\n",
       "       'Married or living together', '35-49',\n",
       "       'Widowed, divorced, separated', 'Primary', 'Employed for kind',\n",
       "       'No education', 'Rural'], dtype=object)"
      ]
     },
     "execution_count": 60,
     "metadata": {},
     "output_type": "execute_result"
    }
   ],
   "source": [
    "df_africa[\"Demographics Response\"].unique()"
   ]
  },
  {
   "cell_type": "code",
   "execution_count": null,
   "id": "7b2cf929",
   "metadata": {},
   "outputs": [],
   "source": []
  }
 ],
 "metadata": {
  "kernelspec": {
   "display_name": "Python 3 (ipykernel)",
   "language": "python",
   "name": "python3"
  },
  "language_info": {
   "codemirror_mode": {
    "name": "ipython",
    "version": 3
   },
   "file_extension": ".py",
   "mimetype": "text/x-python",
   "name": "python",
   "nbconvert_exporter": "python",
   "pygments_lexer": "ipython3",
   "version": "3.11.4"
  }
 },
 "nbformat": 4,
 "nbformat_minor": 5
}
