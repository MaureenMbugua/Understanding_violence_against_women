{
 "cells": [
  {
   "cell_type": "markdown",
   "id": "541d8b5d",
   "metadata": {},
   "source": [
    "# Understanding violence against women\n",
    "\n",
    "This notebook analyzes survey data on attitudes toward violence against women. The dataset includes responses from various countries, categorized by demographic factors.\n"
   ]
  },
  {
   "cell_type": "markdown",
   "id": "b06651b0",
   "metadata": {},
   "source": [
    "## Table of contents\n",
    "\n",
    "- [1. Importing libraries](#1.-Importing-libraries)\n",
    "- [2. Loading and understanding the dataset](#2.-Loading-and-understanding-the-dataset)\n",
    "- [3. Data transformation](#3.-Data-transformation)\n",
    "- [4. Analysis](#4.-Analysis)"
   ]
  },
  {
   "cell_type": "markdown",
   "id": "7004b819",
   "metadata": {},
   "source": [
    "## 1. Importing libraries\n",
    "---"
   ]
  },
  {
   "cell_type": "code",
   "execution_count": 1,
   "id": "3bed76da",
   "metadata": {},
   "outputs": [
    {
     "name": "stderr",
     "output_type": "stream",
     "text": [
      "/Users/nyathirambugua/anaconda3/lib/python3.11/site-packages/pandas/core/arrays/masked.py:60: UserWarning: Pandas requires version '1.3.6' or newer of 'bottleneck' (version '1.3.5' currently installed).\n",
      "  from pandas.core import (\n"
     ]
    }
   ],
   "source": [
    "#libraries\n",
    "\n",
    "import pandas as pd\n",
    "import numpy as np\n",
    "import seaborn as sns\n",
    "import matplotlib.pyplot as plt\n"
   ]
  },
  {
   "cell_type": "markdown",
   "id": "2c9b9e59",
   "metadata": {},
   "source": [
    "[Back to table of contents](#Table-of-contents)"
   ]
  },
  {
   "cell_type": "markdown",
   "id": "8752012a",
   "metadata": {},
   "source": [
    "## 2. Loading and understanding the dataset\n",
    "---"
   ]
  },
  {
   "cell_type": "code",
   "execution_count": 2,
   "id": "db898cdb",
   "metadata": {},
   "outputs": [
    {
     "data": {
      "text/html": [
       "<div>\n",
       "<style scoped>\n",
       "    .dataframe tbody tr th:only-of-type {\n",
       "        vertical-align: middle;\n",
       "    }\n",
       "\n",
       "    .dataframe tbody tr th {\n",
       "        vertical-align: top;\n",
       "    }\n",
       "\n",
       "    .dataframe thead th {\n",
       "        text-align: right;\n",
       "    }\n",
       "</style>\n",
       "<table border=\"1\" class=\"dataframe\">\n",
       "  <thead>\n",
       "    <tr style=\"text-align: right;\">\n",
       "      <th></th>\n",
       "      <th>RecordID</th>\n",
       "      <th>Country</th>\n",
       "      <th>Gender</th>\n",
       "      <th>Demographics Question</th>\n",
       "      <th>Demographics Response</th>\n",
       "      <th>Question</th>\n",
       "      <th>Survey Year</th>\n",
       "      <th>Value</th>\n",
       "    </tr>\n",
       "  </thead>\n",
       "  <tbody>\n",
       "    <tr>\n",
       "      <th>0</th>\n",
       "      <td>1</td>\n",
       "      <td>Afghanistan</td>\n",
       "      <td>F</td>\n",
       "      <td>Marital status</td>\n",
       "      <td>Never married</td>\n",
       "      <td>... if she burns the food</td>\n",
       "      <td>01/01/2015</td>\n",
       "      <td>NaN</td>\n",
       "    </tr>\n",
       "    <tr>\n",
       "      <th>1</th>\n",
       "      <td>1</td>\n",
       "      <td>Afghanistan</td>\n",
       "      <td>F</td>\n",
       "      <td>Education</td>\n",
       "      <td>Higher</td>\n",
       "      <td>... if she burns the food</td>\n",
       "      <td>01/01/2015</td>\n",
       "      <td>10.1</td>\n",
       "    </tr>\n",
       "    <tr>\n",
       "      <th>2</th>\n",
       "      <td>1</td>\n",
       "      <td>Afghanistan</td>\n",
       "      <td>F</td>\n",
       "      <td>Education</td>\n",
       "      <td>Secondary</td>\n",
       "      <td>... if she burns the food</td>\n",
       "      <td>01/01/2015</td>\n",
       "      <td>13.7</td>\n",
       "    </tr>\n",
       "    <tr>\n",
       "      <th>3</th>\n",
       "      <td>1</td>\n",
       "      <td>Afghanistan</td>\n",
       "      <td>F</td>\n",
       "      <td>Education</td>\n",
       "      <td>Primary</td>\n",
       "      <td>... if she burns the food</td>\n",
       "      <td>01/01/2015</td>\n",
       "      <td>13.8</td>\n",
       "    </tr>\n",
       "    <tr>\n",
       "      <th>4</th>\n",
       "      <td>1</td>\n",
       "      <td>Afghanistan</td>\n",
       "      <td>F</td>\n",
       "      <td>Marital status</td>\n",
       "      <td>Widowed, divorced, separated</td>\n",
       "      <td>... if she burns the food</td>\n",
       "      <td>01/01/2015</td>\n",
       "      <td>13.8</td>\n",
       "    </tr>\n",
       "    <tr>\n",
       "      <th>...</th>\n",
       "      <td>...</td>\n",
       "      <td>...</td>\n",
       "      <td>...</td>\n",
       "      <td>...</td>\n",
       "      <td>...</td>\n",
       "      <td>...</td>\n",
       "      <td>...</td>\n",
       "      <td>...</td>\n",
       "    </tr>\n",
       "    <tr>\n",
       "      <th>95</th>\n",
       "      <td>351</td>\n",
       "      <td>Afghanistan</td>\n",
       "      <td>F</td>\n",
       "      <td>Residence</td>\n",
       "      <td>Rural</td>\n",
       "      <td>... for at least one specific reason</td>\n",
       "      <td>01/01/2015</td>\n",
       "      <td>82.1</td>\n",
       "    </tr>\n",
       "    <tr>\n",
       "      <th>96</th>\n",
       "      <td>351</td>\n",
       "      <td>Afghanistan</td>\n",
       "      <td>F</td>\n",
       "      <td>Residence</td>\n",
       "      <td>Urban</td>\n",
       "      <td>... for at least one specific reason</td>\n",
       "      <td>01/01/2015</td>\n",
       "      <td>74.0</td>\n",
       "    </tr>\n",
       "    <tr>\n",
       "      <th>97</th>\n",
       "      <td>71</td>\n",
       "      <td>Afghanistan</td>\n",
       "      <td>F</td>\n",
       "      <td>Residence</td>\n",
       "      <td>Rural</td>\n",
       "      <td>... if she argues with him</td>\n",
       "      <td>01/01/2015</td>\n",
       "      <td>60.6</td>\n",
       "    </tr>\n",
       "    <tr>\n",
       "      <th>98</th>\n",
       "      <td>71</td>\n",
       "      <td>Afghanistan</td>\n",
       "      <td>F</td>\n",
       "      <td>Residence</td>\n",
       "      <td>Urban</td>\n",
       "      <td>... if she argues with him</td>\n",
       "      <td>01/01/2015</td>\n",
       "      <td>54.7</td>\n",
       "    </tr>\n",
       "    <tr>\n",
       "      <th>99</th>\n",
       "      <td>141</td>\n",
       "      <td>Afghanistan</td>\n",
       "      <td>F</td>\n",
       "      <td>Residence</td>\n",
       "      <td>Rural</td>\n",
       "      <td>... if she goes out without telling him</td>\n",
       "      <td>01/01/2015</td>\n",
       "      <td>69.3</td>\n",
       "    </tr>\n",
       "  </tbody>\n",
       "</table>\n",
       "<p>100 rows × 8 columns</p>\n",
       "</div>"
      ],
      "text/plain": [
       "    RecordID      Country Gender Demographics Question  \\\n",
       "0          1  Afghanistan      F        Marital status   \n",
       "1          1  Afghanistan      F             Education   \n",
       "2          1  Afghanistan      F             Education   \n",
       "3          1  Afghanistan      F             Education   \n",
       "4          1  Afghanistan      F        Marital status   \n",
       "..       ...          ...    ...                   ...   \n",
       "95       351  Afghanistan      F             Residence   \n",
       "96       351  Afghanistan      F             Residence   \n",
       "97        71  Afghanistan      F             Residence   \n",
       "98        71  Afghanistan      F             Residence   \n",
       "99       141  Afghanistan      F             Residence   \n",
       "\n",
       "           Demographics Response                                 Question  \\\n",
       "0                  Never married                ... if she burns the food   \n",
       "1                         Higher                ... if she burns the food   \n",
       "2                      Secondary                ... if she burns the food   \n",
       "3                        Primary                ... if she burns the food   \n",
       "4   Widowed, divorced, separated                ... if she burns the food   \n",
       "..                           ...                                      ...   \n",
       "95                         Rural     ... for at least one specific reason   \n",
       "96                         Urban     ... for at least one specific reason   \n",
       "97                         Rural               ... if she argues with him   \n",
       "98                         Urban               ... if she argues with him   \n",
       "99                         Rural  ... if she goes out without telling him   \n",
       "\n",
       "   Survey Year  Value  \n",
       "0   01/01/2015    NaN  \n",
       "1   01/01/2015   10.1  \n",
       "2   01/01/2015   13.7  \n",
       "3   01/01/2015   13.8  \n",
       "4   01/01/2015   13.8  \n",
       "..         ...    ...  \n",
       "95  01/01/2015   82.1  \n",
       "96  01/01/2015   74.0  \n",
       "97  01/01/2015   60.6  \n",
       "98  01/01/2015   54.7  \n",
       "99  01/01/2015   69.3  \n",
       "\n",
       "[100 rows x 8 columns]"
      ]
     },
     "execution_count": 2,
     "metadata": {},
     "output_type": "execute_result"
    }
   ],
   "source": [
    "df = pd.read_csv(\"violence_data.csv\")\n",
    "df.head(100)"
   ]
  },
  {
   "cell_type": "markdown",
   "id": "1a9fd7bd",
   "metadata": {},
   "source": [
    "### Dataset shape and features "
   ]
  },
  {
   "cell_type": "code",
   "execution_count": 3,
   "id": "1f3d138f",
   "metadata": {},
   "outputs": [
    {
     "data": {
      "text/plain": [
       "(12600, 8)"
      ]
     },
     "execution_count": 3,
     "metadata": {},
     "output_type": "execute_result"
    }
   ],
   "source": [
    "df.shape"
   ]
  },
  {
   "cell_type": "markdown",
   "id": "35aaebdd",
   "metadata": {},
   "source": [
    "The dataset contains 12,600 records and 8 columns, with the target variable being \"Value,\" which represents the percentage of people surveyed in a specific demographic group who agree with a given justification for violence against women. The features include demographic information such as country, gender, marital status, education level, employment status, residence type, and age.\n",
    "\n",
    "Here is a document containing the list and description of all the features present in our database: [Data description](/data_description.pdf).**store in drive**"
   ]
  },
  {
   "cell_type": "markdown",
   "id": "7088f489",
   "metadata": {},
   "source": [
    "### Checking for missing values\n",
    "\n",
    "Let's get a list of all the features. We also want to find out those that have missing values and the data type of each column."
   ]
  },
  {
   "cell_type": "code",
   "execution_count": 4,
   "id": "8bef91ec",
   "metadata": {},
   "outputs": [
    {
     "name": "stdout",
     "output_type": "stream",
     "text": [
      "<class 'pandas.core.frame.DataFrame'>\n",
      "RangeIndex: 12600 entries, 0 to 12599\n",
      "Data columns (total 8 columns):\n",
      " #   Column                 Non-Null Count  Dtype  \n",
      "---  ------                 --------------  -----  \n",
      " 0   RecordID               12600 non-null  int64  \n",
      " 1   Country                12600 non-null  object \n",
      " 2   Gender                 12600 non-null  object \n",
      " 3   Demographics Question  12600 non-null  object \n",
      " 4   Demographics Response  12600 non-null  object \n",
      " 5   Question               12600 non-null  object \n",
      " 6   Survey Year            12600 non-null  object \n",
      " 7   Value                  11187 non-null  float64\n",
      "dtypes: float64(1), int64(1), object(6)\n",
      "memory usage: 787.6+ KB\n"
     ]
    }
   ],
   "source": [
    "df.info()"
   ]
  },
  {
   "cell_type": "markdown",
   "id": "df57b172",
   "metadata": {},
   "source": [
    "The dataset has missing values in the `Value` column. Could this indicate that no respondents in a particular demographic group agreed with the justification?"
   ]
  },
  {
   "cell_type": "markdown",
   "id": "1e2d5002",
   "metadata": {},
   "source": [
    "To help us confirm this, let's first look at descriptive statistsics."
   ]
  },
  {
   "cell_type": "markdown",
   "id": "2c8c1c3b",
   "metadata": {},
   "source": [
    "### Descriptive statistics"
   ]
  },
  {
   "cell_type": "code",
   "execution_count": 5,
   "id": "9abf242b",
   "metadata": {},
   "outputs": [
    {
     "data": {
      "text/plain": [
       "count    11187.000000\n",
       "mean        19.762537\n",
       "std         16.986437\n",
       "min          0.000000\n",
       "25%          6.200000\n",
       "50%         14.900000\n",
       "75%         29.200000\n",
       "max         86.900000\n",
       "Name: Value, dtype: float64"
      ]
     },
     "execution_count": 5,
     "metadata": {},
     "output_type": "execute_result"
    }
   ],
   "source": [
    "df[\"Value\"].describe()"
   ]
  },
  {
   "cell_type": "markdown",
   "id": "d014a7db",
   "metadata": {},
   "source": [
    "From the descriptive statistics, the minimum value in the `Value` column is `0`. This means that if no one in a certain demographic group agreed to the given reason, a value of `0` was given. Hence, null values from earlier are just a case of missing values. "
   ]
  },
  {
   "cell_type": "markdown",
   "id": "4789a7af",
   "metadata": {},
   "source": [
    "To better understand the missing values, I created a function, `filter_nulls_by_country`, to filter rows with missing `Value` entries for a specific country. "
   ]
  },
  {
   "cell_type": "code",
   "execution_count": 6,
   "id": "79bb7df1",
   "metadata": {},
   "outputs": [],
   "source": [
    "# Define the function to filter for rows with missing values for a given country.\n",
    "def filter_nulls_by_country(dataframe, country):\n",
    "    \n",
    "    nulls_df = dataframe[(dataframe['Value'].isnull()) & (dataframe['Country'] == country)]\n",
    "    \n",
    "    return nulls_df"
   ]
  },
  {
   "cell_type": "code",
   "execution_count": 7,
   "id": "ac6f09e3",
   "metadata": {},
   "outputs": [
    {
     "data": {
      "text/html": [
       "<div>\n",
       "<style scoped>\n",
       "    .dataframe tbody tr th:only-of-type {\n",
       "        vertical-align: middle;\n",
       "    }\n",
       "\n",
       "    .dataframe tbody tr th {\n",
       "        vertical-align: top;\n",
       "    }\n",
       "\n",
       "    .dataframe thead th {\n",
       "        text-align: right;\n",
       "    }\n",
       "</style>\n",
       "<table border=\"1\" class=\"dataframe\">\n",
       "  <thead>\n",
       "    <tr style=\"text-align: right;\">\n",
       "      <th></th>\n",
       "      <th>RecordID</th>\n",
       "      <th>Country</th>\n",
       "      <th>Gender</th>\n",
       "      <th>Demographics Question</th>\n",
       "      <th>Demographics Response</th>\n",
       "      <th>Question</th>\n",
       "      <th>Survey Year</th>\n",
       "      <th>Value</th>\n",
       "    </tr>\n",
       "  </thead>\n",
       "  <tbody>\n",
       "    <tr>\n",
       "      <th>12150</th>\n",
       "      <td>418</td>\n",
       "      <td>Yemen</td>\n",
       "      <td>M</td>\n",
       "      <td>Age</td>\n",
       "      <td>15-24</td>\n",
       "      <td>... for at least one specific reason</td>\n",
       "      <td>01/01/2013</td>\n",
       "      <td>NaN</td>\n",
       "    </tr>\n",
       "    <tr>\n",
       "      <th>12151</th>\n",
       "      <td>418</td>\n",
       "      <td>Yemen</td>\n",
       "      <td>M</td>\n",
       "      <td>Age</td>\n",
       "      <td>25-34</td>\n",
       "      <td>... for at least one specific reason</td>\n",
       "      <td>01/01/2013</td>\n",
       "      <td>NaN</td>\n",
       "    </tr>\n",
       "    <tr>\n",
       "      <th>12152</th>\n",
       "      <td>418</td>\n",
       "      <td>Yemen</td>\n",
       "      <td>M</td>\n",
       "      <td>Age</td>\n",
       "      <td>35-49</td>\n",
       "      <td>... for at least one specific reason</td>\n",
       "      <td>01/01/2013</td>\n",
       "      <td>NaN</td>\n",
       "    </tr>\n",
       "    <tr>\n",
       "      <th>12153</th>\n",
       "      <td>138</td>\n",
       "      <td>Yemen</td>\n",
       "      <td>M</td>\n",
       "      <td>Age</td>\n",
       "      <td>15-24</td>\n",
       "      <td>... if she argues with him</td>\n",
       "      <td>01/01/2013</td>\n",
       "      <td>NaN</td>\n",
       "    </tr>\n",
       "    <tr>\n",
       "      <th>12154</th>\n",
       "      <td>138</td>\n",
       "      <td>Yemen</td>\n",
       "      <td>M</td>\n",
       "      <td>Age</td>\n",
       "      <td>25-34</td>\n",
       "      <td>... if she argues with him</td>\n",
       "      <td>01/01/2013</td>\n",
       "      <td>NaN</td>\n",
       "    </tr>\n",
       "    <tr>\n",
       "      <th>...</th>\n",
       "      <td>...</td>\n",
       "      <td>...</td>\n",
       "      <td>...</td>\n",
       "      <td>...</td>\n",
       "      <td>...</td>\n",
       "      <td>...</td>\n",
       "      <td>...</td>\n",
       "      <td>...</td>\n",
       "    </tr>\n",
       "    <tr>\n",
       "      <th>12235</th>\n",
       "      <td>208</td>\n",
       "      <td>Yemen</td>\n",
       "      <td>M</td>\n",
       "      <td>Residence</td>\n",
       "      <td>Urban</td>\n",
       "      <td>... if she goes out without telling him</td>\n",
       "      <td>01/01/2013</td>\n",
       "      <td>NaN</td>\n",
       "    </tr>\n",
       "    <tr>\n",
       "      <th>12236</th>\n",
       "      <td>278</td>\n",
       "      <td>Yemen</td>\n",
       "      <td>M</td>\n",
       "      <td>Residence</td>\n",
       "      <td>Rural</td>\n",
       "      <td>... if she neglects the children</td>\n",
       "      <td>01/01/2013</td>\n",
       "      <td>NaN</td>\n",
       "    </tr>\n",
       "    <tr>\n",
       "      <th>12237</th>\n",
       "      <td>278</td>\n",
       "      <td>Yemen</td>\n",
       "      <td>M</td>\n",
       "      <td>Residence</td>\n",
       "      <td>Urban</td>\n",
       "      <td>... if she neglects the children</td>\n",
       "      <td>01/01/2013</td>\n",
       "      <td>NaN</td>\n",
       "    </tr>\n",
       "    <tr>\n",
       "      <th>12238</th>\n",
       "      <td>348</td>\n",
       "      <td>Yemen</td>\n",
       "      <td>M</td>\n",
       "      <td>Residence</td>\n",
       "      <td>Rural</td>\n",
       "      <td>... if she refuses to have sex with him</td>\n",
       "      <td>01/01/2013</td>\n",
       "      <td>NaN</td>\n",
       "    </tr>\n",
       "    <tr>\n",
       "      <th>12239</th>\n",
       "      <td>348</td>\n",
       "      <td>Yemen</td>\n",
       "      <td>M</td>\n",
       "      <td>Residence</td>\n",
       "      <td>Urban</td>\n",
       "      <td>... if she refuses to have sex with him</td>\n",
       "      <td>01/01/2013</td>\n",
       "      <td>NaN</td>\n",
       "    </tr>\n",
       "  </tbody>\n",
       "</table>\n",
       "<p>90 rows × 8 columns</p>\n",
       "</div>"
      ],
      "text/plain": [
       "       RecordID Country Gender Demographics Question Demographics Response  \\\n",
       "12150       418   Yemen      M                   Age                 15-24   \n",
       "12151       418   Yemen      M                   Age                 25-34   \n",
       "12152       418   Yemen      M                   Age                 35-49   \n",
       "12153       138   Yemen      M                   Age                 15-24   \n",
       "12154       138   Yemen      M                   Age                 25-34   \n",
       "...         ...     ...    ...                   ...                   ...   \n",
       "12235       208   Yemen      M             Residence                 Urban   \n",
       "12236       278   Yemen      M             Residence                 Rural   \n",
       "12237       278   Yemen      M             Residence                 Urban   \n",
       "12238       348   Yemen      M             Residence                 Rural   \n",
       "12239       348   Yemen      M             Residence                 Urban   \n",
       "\n",
       "                                      Question Survey Year  Value  \n",
       "12150     ... for at least one specific reason  01/01/2013    NaN  \n",
       "12151     ... for at least one specific reason  01/01/2013    NaN  \n",
       "12152     ... for at least one specific reason  01/01/2013    NaN  \n",
       "12153               ... if she argues with him  01/01/2013    NaN  \n",
       "12154               ... if she argues with him  01/01/2013    NaN  \n",
       "...                                        ...         ...    ...  \n",
       "12235  ... if she goes out without telling him  01/01/2013    NaN  \n",
       "12236         ... if she neglects the children  01/01/2013    NaN  \n",
       "12237         ... if she neglects the children  01/01/2013    NaN  \n",
       "12238  ... if she refuses to have sex with him  01/01/2013    NaN  \n",
       "12239  ... if she refuses to have sex with him  01/01/2013    NaN  \n",
       "\n",
       "[90 rows x 8 columns]"
      ]
     },
     "execution_count": 7,
     "metadata": {},
     "output_type": "execute_result"
    }
   ],
   "source": [
    "filter_nulls_by_country(df, 'Yemen')"
   ]
  },
  {
   "cell_type": "markdown",
   "id": "b672a278",
   "metadata": {},
   "source": [
    "Missing values are not random but follow specific patterns, such as being tied to certain years or demographic responses. \n",
    "\n",
    "For example, when applied to `Yemen`, the function revealed that missing values were present in specific years and demographic groups, such as those employed `for kind` in `2013`.\n",
    "\n",
    "**there are certain factors that might have led to this....**\n",
    "\n",
    "**I chose to leave them as NaN for now, as they provide meaningful information about the dataset. because will be treated as numeric…proceed with analysis as is for now**\n",
    "\n"
   ]
  },
  {
   "cell_type": "markdown",
   "id": "6ae87a30",
   "metadata": {},
   "source": [
    "### Distribution of the target variable"
   ]
  },
  {
   "cell_type": "markdown",
   "id": "f6bb5206",
   "metadata": {},
   "source": [
    "The descriptive statistics above show that the `Value` column ranges from `0 to 86.9`, with `75%` of the data falling between `0 and 29.2`. This suggests variation in the responses, with some demographic groups showing much higher agreement rates than others."
   ]
  },
  {
   "cell_type": "markdown",
   "id": "924d8f2d",
   "metadata": {},
   "source": [
    "To get a better understanding, let's look at the distribution of our target variable:"
   ]
  },
  {
   "cell_type": "code",
   "execution_count": 8,
   "id": "0e1d40ca",
   "metadata": {},
   "outputs": [
    {
     "data": {
      "image/png": "[encoded data removed]",
      "text/plain": [
       "<Figure size 640x480 with 1 Axes>"
      ]
     },
     "metadata": {},
     "output_type": "display_data"
    }
   ],
   "source": [
    "plt.hist(df[\"Value\"]);"
   ]
  },
  {
   "cell_type": "markdown",
   "id": "9a3733ec",
   "metadata": {},
   "source": [
    "A histogram of the `Value` column revealed a right-skewed distribution, indicating the presence of outliers. These outliers represent demographic groups with unusually high agreement rates, which could be worth investigating further.\n",
    "\n",
    "**Thought process:\n",
    "\n",
    "The skewness suggests that while most groups have low agreement rates, a few groups stand out with significantly higher rates.\n",
    "\n",
    "Next steps: Investigate the demographic characteristics of these outliers to understand what factors might contribute to higher agreement rates.**"
   ]
  },
  {
   "cell_type": "markdown",
   "id": "d05fecc7",
   "metadata": {},
   "source": [
    "### Removing duplicates"
   ]
  },
  {
   "cell_type": "code",
   "execution_count": 9,
   "id": "6aac02c8",
   "metadata": {},
   "outputs": [
    {
     "data": {
      "text/plain": [
       "(12600, 8)"
      ]
     },
     "execution_count": 9,
     "metadata": {},
     "output_type": "execute_result"
    }
   ],
   "source": [
    "df = df.drop_duplicates()\n",
    "df.shape"
   ]
  },
  {
   "cell_type": "markdown",
   "id": "d2575a9e",
   "metadata": {},
   "source": [
    "The shape remains the same indicating that there were no duplicates in our dataset"
   ]
  },
  {
   "cell_type": "markdown",
   "id": "2afc51da",
   "metadata": {},
   "source": [
    "### Checking for cardinality in the categorical columns"
   ]
  },
  {
   "cell_type": "code",
   "execution_count": 10,
   "id": "2728e39f",
   "metadata": {},
   "outputs": [
    {
     "data": {
      "text/plain": [
       "Country                  70\n",
       "Gender                    2\n",
       "Demographics Question     5\n",
       "Demographics Response    15\n",
       "Question                  6\n",
       "Survey Year              18\n",
       "dtype: int64"
      ]
     },
     "execution_count": 10,
     "metadata": {},
     "output_type": "execute_result"
    }
   ],
   "source": [
    "df.select_dtypes(include=\"object\").nunique()"
   ]
  },
  {
   "cell_type": "markdown",
   "id": "805d4e19",
   "metadata": {},
   "source": [
    "We have a whooping 70 countries represented in our dataset. It also seems our data spans 18 years.\n",
    "\n",
    "Let's have a look at which countries these are:"
   ]
  },
  {
   "cell_type": "code",
   "execution_count": 11,
   "id": "5be26de5",
   "metadata": {},
   "outputs": [
    {
     "data": {
      "text/plain": [
       "array(['Afghanistan', 'Albania', 'Angola', 'Armenia', 'Azerbaijan',\n",
       "       'Bangladesh', 'Benin', 'Bolivia', 'Burkina Faso', 'Burundi',\n",
       "       'Cambodia', 'Cameroon', 'Chad', 'Colombia', 'Comoros', 'Congo',\n",
       "       'Congo Democratic Republic', \"Cote d'Ivoire\", 'Dominican Republic',\n",
       "       'Egypt', 'Eritrea', 'Eswatini', 'Ethiopia', 'Gabon', 'Gambia',\n",
       "       'Ghana', 'Guatemala', 'Guinea', 'Guyana', 'Haiti', 'Honduras',\n",
       "       'India', 'Indonesia', 'Jordan', 'Kenya', 'Kyrgyz Republic',\n",
       "       'Lesotho', 'Liberia', 'Madagascar', 'Malawi', 'Maldives', 'Mali',\n",
       "       'Moldova', 'Morocco', 'Mozambique', 'Myanmar', 'Namibia', 'Nepal',\n",
       "       'Nicaragua', 'Niger', 'Nigeria', 'Pakistan', 'Peru', 'Philippines',\n",
       "       'Rwanda', 'Sao Tome and Principe', 'Senegal', 'Sierra Leone',\n",
       "       'South Africa', 'Tajikistan', 'Tanzania', 'Timor-Leste', 'Togo',\n",
       "       'Turkey', 'Turkmenistan', 'Uganda', 'Ukraine', 'Yemen', 'Zambia',\n",
       "       'Zimbabwe'], dtype=object)"
      ]
     },
     "execution_count": 11,
     "metadata": {},
     "output_type": "execute_result"
    }
   ],
   "source": [
    "df[\"Country\"].unique()"
   ]
  },
  {
   "cell_type": "markdown",
   "id": "dc280ce5",
   "metadata": {},
   "source": [
    "[Back to table of contents](#Table-of-contents)"
   ]
  },
  {
   "cell_type": "markdown",
   "id": "1f15a034",
   "metadata": {},
   "source": [
    "## 3. Data transformation\n",
    "---\n",
    "\n",
    "### Reducing the Dataset to African Countries\n",
    "\n",
    "The data spans various countries, from various continents. To focus the analysis, I filtered the dataset to include only African countries."
   ]
  },
  {
   "cell_type": "code",
   "execution_count": 12,
   "id": "4fe198f7",
   "metadata": {},
   "outputs": [],
   "source": [
    "# List of African countries\n",
    "african_countries = [\n",
    "    'Angola', 'Benin', 'Burkina Faso', 'Burundi', 'Cameroon', 'Chad',\n",
    "    'Comoros', 'Congo', 'Congo Democratic Republic', \"Cote d'Ivoire\", \n",
    "    'Egypt', 'Eritrea', 'Eswatini', 'Ethiopia', 'Gabon', 'Gambia', \n",
    "    'Ghana', 'Guinea', 'Kenya', 'Lesotho', 'Liberia', 'Madagascar', \n",
    "    'Malawi', 'Mali', 'Morocco', 'Mozambique', 'Namibia', 'Niger', \n",
    "    'Nigeria', 'Rwanda', 'Sao Tome and Principe', 'Senegal', \n",
    "    'Sierra Leone', 'South Africa', 'Tanzania', 'Togo', 'Uganda', \n",
    "    'Zambia', 'Zimbabwe'\n",
    "]\n",
    "\n",
    "# Filter for records related to African countries\n",
    "df_africa = df[df['Country'].isin(african_countries)].reset_index(drop=True)"
   ]
  },
  {
   "cell_type": "code",
   "execution_count": 13,
   "id": "9221089f",
   "metadata": {},
   "outputs": [
    {
     "data": {
      "text/html": [
       "<div>\n",
       "<style scoped>\n",
       "    .dataframe tbody tr th:only-of-type {\n",
       "        vertical-align: middle;\n",
       "    }\n",
       "\n",
       "    .dataframe tbody tr th {\n",
       "        vertical-align: top;\n",
       "    }\n",
       "\n",
       "    .dataframe thead th {\n",
       "        text-align: right;\n",
       "    }\n",
       "</style>\n",
       "<table border=\"1\" class=\"dataframe\">\n",
       "  <thead>\n",
       "    <tr style=\"text-align: right;\">\n",
       "      <th></th>\n",
       "      <th>RecordID</th>\n",
       "      <th>Country</th>\n",
       "      <th>Gender</th>\n",
       "      <th>Demographics Question</th>\n",
       "      <th>Demographics Response</th>\n",
       "      <th>Question</th>\n",
       "      <th>Survey Year</th>\n",
       "      <th>Value</th>\n",
       "    </tr>\n",
       "  </thead>\n",
       "  <tbody>\n",
       "    <tr>\n",
       "      <th>0</th>\n",
       "      <td>3</td>\n",
       "      <td>Angola</td>\n",
       "      <td>F</td>\n",
       "      <td>Education</td>\n",
       "      <td>Higher</td>\n",
       "      <td>... if she burns the food</td>\n",
       "      <td>01/01/2015</td>\n",
       "      <td>0.9</td>\n",
       "    </tr>\n",
       "    <tr>\n",
       "      <th>1</th>\n",
       "      <td>3</td>\n",
       "      <td>Angola</td>\n",
       "      <td>F</td>\n",
       "      <td>Education</td>\n",
       "      <td>Secondary</td>\n",
       "      <td>... if she burns the food</td>\n",
       "      <td>01/01/2015</td>\n",
       "      <td>5.3</td>\n",
       "    </tr>\n",
       "    <tr>\n",
       "      <th>2</th>\n",
       "      <td>3</td>\n",
       "      <td>Angola</td>\n",
       "      <td>F</td>\n",
       "      <td>Residence</td>\n",
       "      <td>Urban</td>\n",
       "      <td>... if she burns the food</td>\n",
       "      <td>01/01/2015</td>\n",
       "      <td>6.9</td>\n",
       "    </tr>\n",
       "    <tr>\n",
       "      <th>3</th>\n",
       "      <td>3</td>\n",
       "      <td>Angola</td>\n",
       "      <td>F</td>\n",
       "      <td>Employment</td>\n",
       "      <td>Unemployed</td>\n",
       "      <td>... if she burns the food</td>\n",
       "      <td>01/01/2015</td>\n",
       "      <td>8.8</td>\n",
       "    </tr>\n",
       "    <tr>\n",
       "      <th>4</th>\n",
       "      <td>3</td>\n",
       "      <td>Angola</td>\n",
       "      <td>F</td>\n",
       "      <td>Marital status</td>\n",
       "      <td>Never married</td>\n",
       "      <td>... if she burns the food</td>\n",
       "      <td>01/01/2015</td>\n",
       "      <td>9.8</td>\n",
       "    </tr>\n",
       "    <tr>\n",
       "      <th>5</th>\n",
       "      <td>3</td>\n",
       "      <td>Angola</td>\n",
       "      <td>F</td>\n",
       "      <td>Employment</td>\n",
       "      <td>Employed for cash</td>\n",
       "      <td>... if she burns the food</td>\n",
       "      <td>01/01/2015</td>\n",
       "      <td>9.9</td>\n",
       "    </tr>\n",
       "    <tr>\n",
       "      <th>6</th>\n",
       "      <td>3</td>\n",
       "      <td>Angola</td>\n",
       "      <td>F</td>\n",
       "      <td>Age</td>\n",
       "      <td>25-34</td>\n",
       "      <td>... if she burns the food</td>\n",
       "      <td>01/01/2015</td>\n",
       "      <td>10.0</td>\n",
       "    </tr>\n",
       "    <tr>\n",
       "      <th>7</th>\n",
       "      <td>3</td>\n",
       "      <td>Angola</td>\n",
       "      <td>F</td>\n",
       "      <td>Age</td>\n",
       "      <td>15-24</td>\n",
       "      <td>... if she burns the food</td>\n",
       "      <td>01/01/2015</td>\n",
       "      <td>10.6</td>\n",
       "    </tr>\n",
       "    <tr>\n",
       "      <th>8</th>\n",
       "      <td>3</td>\n",
       "      <td>Angola</td>\n",
       "      <td>F</td>\n",
       "      <td>Marital status</td>\n",
       "      <td>Married or living together</td>\n",
       "      <td>... if she burns the food</td>\n",
       "      <td>01/01/2015</td>\n",
       "      <td>10.8</td>\n",
       "    </tr>\n",
       "    <tr>\n",
       "      <th>9</th>\n",
       "      <td>3</td>\n",
       "      <td>Angola</td>\n",
       "      <td>F</td>\n",
       "      <td>Age</td>\n",
       "      <td>35-49</td>\n",
       "      <td>... if she burns the food</td>\n",
       "      <td>01/01/2015</td>\n",
       "      <td>11.0</td>\n",
       "    </tr>\n",
       "  </tbody>\n",
       "</table>\n",
       "</div>"
      ],
      "text/plain": [
       "   RecordID Country Gender Demographics Question       Demographics Response  \\\n",
       "0         3  Angola      F             Education                      Higher   \n",
       "1         3  Angola      F             Education                   Secondary   \n",
       "2         3  Angola      F             Residence                       Urban   \n",
       "3         3  Angola      F            Employment                  Unemployed   \n",
       "4         3  Angola      F        Marital status               Never married   \n",
       "5         3  Angola      F            Employment           Employed for cash   \n",
       "6         3  Angola      F                   Age                       25-34   \n",
       "7         3  Angola      F                   Age                       15-24   \n",
       "8         3  Angola      F        Marital status  Married or living together   \n",
       "9         3  Angola      F                   Age                       35-49   \n",
       "\n",
       "                    Question Survey Year  Value  \n",
       "0  ... if she burns the food  01/01/2015    0.9  \n",
       "1  ... if she burns the food  01/01/2015    5.3  \n",
       "2  ... if she burns the food  01/01/2015    6.9  \n",
       "3  ... if she burns the food  01/01/2015    8.8  \n",
       "4  ... if she burns the food  01/01/2015    9.8  \n",
       "5  ... if she burns the food  01/01/2015    9.9  \n",
       "6  ... if she burns the food  01/01/2015   10.0  \n",
       "7  ... if she burns the food  01/01/2015   10.6  \n",
       "8  ... if she burns the food  01/01/2015   10.8  \n",
       "9  ... if she burns the food  01/01/2015   11.0  "
      ]
     },
     "execution_count": 13,
     "metadata": {},
     "output_type": "execute_result"
    }
   ],
   "source": [
    "df_africa.head(10)"
   ]
  },
  {
   "cell_type": "markdown",
   "id": "2acbf786",
   "metadata": {},
   "source": [
    "#### Dataset shape and features"
   ]
  },
  {
   "cell_type": "code",
   "execution_count": 14,
   "id": "b5bb116c",
   "metadata": {},
   "outputs": [
    {
     "name": "stdout",
     "output_type": "stream",
     "text": [
      "No. of countries: 39\n",
      "Dataset shape: (7020, 8)\n",
      "<class 'pandas.core.frame.DataFrame'>\n",
      "RangeIndex: 7020 entries, 0 to 7019\n",
      "Data columns (total 8 columns):\n",
      " #   Column                 Non-Null Count  Dtype  \n",
      "---  ------                 --------------  -----  \n",
      " 0   RecordID               7020 non-null   int64  \n",
      " 1   Country                7020 non-null   object \n",
      " 2   Gender                 7020 non-null   object \n",
      " 3   Demographics Question  7020 non-null   object \n",
      " 4   Demographics Response  7020 non-null   object \n",
      " 5   Question               7020 non-null   object \n",
      " 6   Survey Year            7020 non-null   object \n",
      " 7   Value                  6672 non-null   float64\n",
      "dtypes: float64(1), int64(1), object(6)\n",
      "memory usage: 438.9+ KB\n",
      "None\n"
     ]
    }
   ],
   "source": [
    "print(\"No. of countries:\", df_africa[\"Country\"].nunique())\n",
    "print(\"Dataset shape:\", df_africa.shape)\n",
    "print(df_africa.info())"
   ]
  },
  {
   "cell_type": "markdown",
   "id": "1b984a2c",
   "metadata": {},
   "source": [
    "This reduced the dataset to `7,020` records spanning `39` countries. The filtered dataset retains the same structure but is more manageable for regional analysis.\n",
    "\n",
    "All data types are fitting except for the `Survey Year` column. It's of the object type, but we expect it to be numeric. We shall handle this later."
   ]
  },
  {
   "cell_type": "markdown",
   "id": "fc3e6a23",
   "metadata": {},
   "source": [
    "#### Checking for missing values\n",
    "\n",
    "I also note that missing values have persisted even in our reduced dataset, about 350. Let's investigate whether there is a patterrn just like we did with the larger dataset, using the same function:"
   ]
  },
  {
   "cell_type": "code",
   "execution_count": 15,
   "id": "dd689603",
   "metadata": {},
   "outputs": [
    {
     "data": {
      "text/html": [
       "<div>\n",
       "<style scoped>\n",
       "    .dataframe tbody tr th:only-of-type {\n",
       "        vertical-align: middle;\n",
       "    }\n",
       "\n",
       "    .dataframe tbody tr th {\n",
       "        vertical-align: top;\n",
       "    }\n",
       "\n",
       "    .dataframe thead th {\n",
       "        text-align: right;\n",
       "    }\n",
       "</style>\n",
       "<table border=\"1\" class=\"dataframe\">\n",
       "  <thead>\n",
       "    <tr style=\"text-align: right;\">\n",
       "      <th></th>\n",
       "      <th>RecordID</th>\n",
       "      <th>Country</th>\n",
       "      <th>Gender</th>\n",
       "      <th>Demographics Question</th>\n",
       "      <th>Demographics Response</th>\n",
       "      <th>Question</th>\n",
       "      <th>Survey Year</th>\n",
       "      <th>Value</th>\n",
       "    </tr>\n",
       "  </thead>\n",
       "  <tbody>\n",
       "    <tr>\n",
       "      <th>6073</th>\n",
       "      <td>409</td>\n",
       "      <td>South Africa</td>\n",
       "      <td>M</td>\n",
       "      <td>Employment</td>\n",
       "      <td>Employed for kind</td>\n",
       "      <td>... for at least one specific reason</td>\n",
       "      <td>01/01/2016</td>\n",
       "      <td>NaN</td>\n",
       "    </tr>\n",
       "    <tr>\n",
       "      <th>6076</th>\n",
       "      <td>129</td>\n",
       "      <td>South Africa</td>\n",
       "      <td>M</td>\n",
       "      <td>Employment</td>\n",
       "      <td>Employed for kind</td>\n",
       "      <td>... if she argues with him</td>\n",
       "      <td>01/01/2016</td>\n",
       "      <td>NaN</td>\n",
       "    </tr>\n",
       "    <tr>\n",
       "      <th>6079</th>\n",
       "      <td>59</td>\n",
       "      <td>South Africa</td>\n",
       "      <td>M</td>\n",
       "      <td>Employment</td>\n",
       "      <td>Employed for kind</td>\n",
       "      <td>... if she burns the food</td>\n",
       "      <td>01/01/2016</td>\n",
       "      <td>NaN</td>\n",
       "    </tr>\n",
       "    <tr>\n",
       "      <th>6082</th>\n",
       "      <td>199</td>\n",
       "      <td>South Africa</td>\n",
       "      <td>M</td>\n",
       "      <td>Employment</td>\n",
       "      <td>Employed for kind</td>\n",
       "      <td>... if she goes out without telling him</td>\n",
       "      <td>01/01/2016</td>\n",
       "      <td>NaN</td>\n",
       "    </tr>\n",
       "    <tr>\n",
       "      <th>6085</th>\n",
       "      <td>269</td>\n",
       "      <td>South Africa</td>\n",
       "      <td>M</td>\n",
       "      <td>Employment</td>\n",
       "      <td>Employed for kind</td>\n",
       "      <td>... if she neglects the children</td>\n",
       "      <td>01/01/2016</td>\n",
       "      <td>NaN</td>\n",
       "    </tr>\n",
       "    <tr>\n",
       "      <th>6088</th>\n",
       "      <td>339</td>\n",
       "      <td>South Africa</td>\n",
       "      <td>M</td>\n",
       "      <td>Employment</td>\n",
       "      <td>Employed for kind</td>\n",
       "      <td>... if she refuses to have sex with him</td>\n",
       "      <td>01/01/2016</td>\n",
       "      <td>NaN</td>\n",
       "    </tr>\n",
       "  </tbody>\n",
       "</table>\n",
       "</div>"
      ],
      "text/plain": [
       "      RecordID       Country Gender Demographics Question  \\\n",
       "6073       409  South Africa      M            Employment   \n",
       "6076       129  South Africa      M            Employment   \n",
       "6079        59  South Africa      M            Employment   \n",
       "6082       199  South Africa      M            Employment   \n",
       "6085       269  South Africa      M            Employment   \n",
       "6088       339  South Africa      M            Employment   \n",
       "\n",
       "     Demographics Response                                 Question  \\\n",
       "6073     Employed for kind     ... for at least one specific reason   \n",
       "6076     Employed for kind               ... if she argues with him   \n",
       "6079     Employed for kind                ... if she burns the food   \n",
       "6082     Employed for kind  ... if she goes out without telling him   \n",
       "6085     Employed for kind         ... if she neglects the children   \n",
       "6088     Employed for kind  ... if she refuses to have sex with him   \n",
       "\n",
       "     Survey Year  Value  \n",
       "6073  01/01/2016    NaN  \n",
       "6076  01/01/2016    NaN  \n",
       "6079  01/01/2016    NaN  \n",
       "6082  01/01/2016    NaN  \n",
       "6085  01/01/2016    NaN  \n",
       "6088  01/01/2016    NaN  "
      ]
     },
     "execution_count": 15,
     "metadata": {},
     "output_type": "execute_result"
    }
   ],
   "source": [
    "filter_nulls_by_country(df_africa, 'South Africa')"
   ]
  },
  {
   "cell_type": "markdown",
   "id": "85d996ab",
   "metadata": {},
   "source": [
    "I observe that missing values are tied to certain years and demographic responses.\n",
    "\n",
    "For example, when applied to `South Africa`, the function revealed that missing values were present in those `employed for kind` in `2016`.\n",
    "\n",
    "**there are certain factors that might have led to this....\n",
    "leave as Nan because will be treated as numeric…proceed with analysis as is for now**"
   ]
  },
  {
   "cell_type": "code",
   "execution_count": 16,
   "id": "b04b8f62",
   "metadata": {},
   "outputs": [
    {
     "data": {
      "text/plain": [
       "count    6672.000000\n",
       "mean       22.347662\n",
       "std        16.534109\n",
       "min         0.000000\n",
       "25%         8.900000\n",
       "50%        18.600000\n",
       "75%        32.100000\n",
       "max        86.100000\n",
       "Name: Value, dtype: float64"
      ]
     },
     "execution_count": 16,
     "metadata": {},
     "output_type": "execute_result"
    }
   ],
   "source": [
    "df_africa[\"Value\"].describe()"
   ]
  },
  {
   "cell_type": "markdown",
   "id": "a2995799",
   "metadata": {},
   "source": [
    "#### Descriptive statistics\n",
    "\n",
    "The descriptive statistics follow a similar pattern as the larger dataset by revealing variation in the responses and some demographic groups showing much higher agreement rates than others. The `Value` column ranges from `0 and 86.1`, with `75%` of the data falling between `0 and 32.1`. This suggests "
   ]
  },
  {
   "cell_type": "markdown",
   "id": "fa55cb76",
   "metadata": {},
   "source": [
    "#### Distribution of the target variable"
   ]
  },
  {
   "cell_type": "markdown",
   "id": "caa7b2c1",
   "metadata": {},
   "source": [
    "To get a better understanding, let's look at the distribution of the target variable."
   ]
  },
  {
   "cell_type": "code",
   "execution_count": 17,
   "id": "7dba9d7e",
   "metadata": {},
   "outputs": [
    {
     "data": {
      "text/plain": [
       "(array([1598., 1532., 1237.,  844.,  562.,  459.,  243.,  117.,   64.,\n",
       "          16.]),\n",
       " array([ 0.  ,  8.61, 17.22, 25.83, 34.44, 43.05, 51.66, 60.27, 68.88,\n",
       "        77.49, 86.1 ]),\n",
       " <BarContainer object of 10 artists>)"
      ]
     },
     "execution_count": 17,
     "metadata": {},
     "output_type": "execute_result"
    },
    {
     "data": {
      "image/png": "[encoded data removed]",
      "text/plain": [
       "<Figure size 640x480 with 1 Axes>"
      ]
     },
     "metadata": {},
     "output_type": "display_data"
    }
   ],
   "source": [
    "plt.hist(df_africa[\"Value\"])"
   ]
  },
  {
   "cell_type": "markdown",
   "id": "15d62bd6",
   "metadata": {},
   "source": [
    "Once again, a histogram of the `Value` column reveals a right-skewed distribution, indicating the presence of outliers. These outliers represent demographic groups whose agreement rates seem to be way higher than others.\n",
    "\n",
    "**Our African dataset seems to follow the same trend/shape as the larger dataset. Curious about the rest of the continents>**"
   ]
  },
  {
   "cell_type": "markdown",
   "id": "1ce59c14",
   "metadata": {},
   "source": [
    "#### Checking for cardinality in the categorical columns"
   ]
  },
  {
   "cell_type": "code",
   "execution_count": 18,
   "id": "13ed6dc8",
   "metadata": {},
   "outputs": [
    {
     "data": {
      "text/plain": [
       "Country                  39\n",
       "Gender                    2\n",
       "Demographics Question     5\n",
       "Demographics Response    15\n",
       "Question                  6\n",
       "Survey Year              13\n",
       "dtype: int64"
      ]
     },
     "execution_count": 18,
     "metadata": {},
     "output_type": "execute_result"
    }
   ],
   "source": [
    "df_africa.select_dtypes(include=\"object\").nunique()"
   ]
  },
  {
   "cell_type": "markdown",
   "id": "f8cf3122",
   "metadata": {},
   "source": [
    "While the rest of the features remain the same as before, the reduced dataset spans only `13` years."
   ]
  },
  {
   "cell_type": "markdown",
   "id": "0d6c7f23",
   "metadata": {},
   "source": [
    "### Transforming the `Survey Year` column\n",
    "\n",
    "We have 13 unique year readings, does this mean our data spans 13 years, or do we have some years that have different dates? \n",
    "\n",
    "Let's check:"
   ]
  },
  {
   "cell_type": "code",
   "execution_count": 19,
   "id": "b3806861",
   "metadata": {},
   "outputs": [
    {
     "data": {
      "text/plain": [
       "array(['01/01/2015', '01/01/2017', '01/01/2010', '01/01/2016',\n",
       "       '01/01/2011', '01/01/2014', '01/01/2012', '01/01/2013',\n",
       "       '01/01/2002', '01/01/2006', '01/01/2018', '01/01/2008',\n",
       "       '01/01/2003'], dtype=object)"
      ]
     },
     "execution_count": 19,
     "metadata": {},
     "output_type": "execute_result"
    }
   ],
   "source": [
    "df_africa[\"Survey Year\"].unique()"
   ]
  },
  {
   "cell_type": "markdown",
   "id": "959099d7",
   "metadata": {},
   "source": [
    "It seems our data spans between `2002` and `2018`, with some years missing inbetween. With the date and month reading the same for all values, it is not neccessary keep that part. I will therefore **truncate the date** to be left with the year alone. I will then **convert it to numeric format** as we had mentioned earlier. "
   ]
  },
  {
   "cell_type": "code",
   "execution_count": 20,
   "id": "f609b523",
   "metadata": {},
   "outputs": [],
   "source": [
    "# Convert \"Survey Year\" to datetime and extract the year\n",
    "df_africa[\"Year\"] = pd.to_datetime(df_africa[\"Survey Year\"]).dt.year"
   ]
  },
  {
   "cell_type": "code",
   "execution_count": 21,
   "id": "10ba10cd",
   "metadata": {},
   "outputs": [
    {
     "data": {
      "text/html": [
       "<div>\n",
       "<style scoped>\n",
       "    .dataframe tbody tr th:only-of-type {\n",
       "        vertical-align: middle;\n",
       "    }\n",
       "\n",
       "    .dataframe tbody tr th {\n",
       "        vertical-align: top;\n",
       "    }\n",
       "\n",
       "    .dataframe thead th {\n",
       "        text-align: right;\n",
       "    }\n",
       "</style>\n",
       "<table border=\"1\" class=\"dataframe\">\n",
       "  <thead>\n",
       "    <tr style=\"text-align: right;\">\n",
       "      <th></th>\n",
       "      <th>RecordID</th>\n",
       "      <th>Country</th>\n",
       "      <th>Gender</th>\n",
       "      <th>Demographics Question</th>\n",
       "      <th>Demographics Response</th>\n",
       "      <th>Question</th>\n",
       "      <th>Survey Year</th>\n",
       "      <th>Value</th>\n",
       "      <th>Year</th>\n",
       "    </tr>\n",
       "  </thead>\n",
       "  <tbody>\n",
       "    <tr>\n",
       "      <th>0</th>\n",
       "      <td>3</td>\n",
       "      <td>Angola</td>\n",
       "      <td>F</td>\n",
       "      <td>Education</td>\n",
       "      <td>Higher</td>\n",
       "      <td>... if she burns the food</td>\n",
       "      <td>01/01/2015</td>\n",
       "      <td>0.9</td>\n",
       "      <td>2015</td>\n",
       "    </tr>\n",
       "    <tr>\n",
       "      <th>1</th>\n",
       "      <td>3</td>\n",
       "      <td>Angola</td>\n",
       "      <td>F</td>\n",
       "      <td>Education</td>\n",
       "      <td>Secondary</td>\n",
       "      <td>... if she burns the food</td>\n",
       "      <td>01/01/2015</td>\n",
       "      <td>5.3</td>\n",
       "      <td>2015</td>\n",
       "    </tr>\n",
       "    <tr>\n",
       "      <th>2</th>\n",
       "      <td>3</td>\n",
       "      <td>Angola</td>\n",
       "      <td>F</td>\n",
       "      <td>Residence</td>\n",
       "      <td>Urban</td>\n",
       "      <td>... if she burns the food</td>\n",
       "      <td>01/01/2015</td>\n",
       "      <td>6.9</td>\n",
       "      <td>2015</td>\n",
       "    </tr>\n",
       "    <tr>\n",
       "      <th>3</th>\n",
       "      <td>3</td>\n",
       "      <td>Angola</td>\n",
       "      <td>F</td>\n",
       "      <td>Employment</td>\n",
       "      <td>Unemployed</td>\n",
       "      <td>... if she burns the food</td>\n",
       "      <td>01/01/2015</td>\n",
       "      <td>8.8</td>\n",
       "      <td>2015</td>\n",
       "    </tr>\n",
       "    <tr>\n",
       "      <th>4</th>\n",
       "      <td>3</td>\n",
       "      <td>Angola</td>\n",
       "      <td>F</td>\n",
       "      <td>Marital status</td>\n",
       "      <td>Never married</td>\n",
       "      <td>... if she burns the food</td>\n",
       "      <td>01/01/2015</td>\n",
       "      <td>9.8</td>\n",
       "      <td>2015</td>\n",
       "    </tr>\n",
       "  </tbody>\n",
       "</table>\n",
       "</div>"
      ],
      "text/plain": [
       "   RecordID Country Gender Demographics Question Demographics Response  \\\n",
       "0         3  Angola      F             Education                Higher   \n",
       "1         3  Angola      F             Education             Secondary   \n",
       "2         3  Angola      F             Residence                 Urban   \n",
       "3         3  Angola      F            Employment            Unemployed   \n",
       "4         3  Angola      F        Marital status         Never married   \n",
       "\n",
       "                    Question Survey Year  Value  Year  \n",
       "0  ... if she burns the food  01/01/2015    0.9  2015  \n",
       "1  ... if she burns the food  01/01/2015    5.3  2015  \n",
       "2  ... if she burns the food  01/01/2015    6.9  2015  \n",
       "3  ... if she burns the food  01/01/2015    8.8  2015  \n",
       "4  ... if she burns the food  01/01/2015    9.8  2015  "
      ]
     },
     "execution_count": 21,
     "metadata": {},
     "output_type": "execute_result"
    }
   ],
   "source": [
    "df_africa.head()"
   ]
  },
  {
   "cell_type": "markdown",
   "id": "0c172748",
   "metadata": {},
   "source": [
    "I also observe that there are no different `country+year` readings, as was my initial assumption. Each **country has one year value**, meaning a survey for a country was carried out in a particular year only. \n",
    "\n",
    "This means we cannot we **cannot track changes over time** for individual countries. I do not observe common factors among countries whose surveys were conducted in the same year. For example, assuming that in a partcular year, they focused on countries in a particular region."
   ]
  },
  {
   "cell_type": "code",
   "execution_count": 22,
   "id": "49d62c10",
   "metadata": {},
   "outputs": [
    {
     "data": {
      "text/plain": [
       "array(['Burundi', 'Ethiopia', 'South Africa', 'Uganda'], dtype=object)"
      ]
     },
     "execution_count": 22,
     "metadata": {},
     "output_type": "execute_result"
    }
   ],
   "source": [
    "df_africa[df_africa[\"Year\"]==2016][\"Country\"].unique()"
   ]
  },
  {
   "cell_type": "markdown",
   "id": "8d8983e3",
   "metadata": {},
   "source": [
    "Although this column does not seem credible to give us any time analysis, we can keep it to give context on when a particular survey was carried out."
   ]
  },
  {
   "cell_type": "markdown",
   "id": "c5e82d09",
   "metadata": {},
   "source": [
    "### Adding a `Region` Column\n",
    "\n",
    "To enable regional analysis, I added a `Region` column that classifies each country into one of five African regions: `North Africa`, `West Africa`, `East Africa`, `Central Africa`, and `Southern Africa`. \n",
    "\n",
    "This will be useful for **broader analysis**, allowing us to explore and compare patterns across different parts of Africa and discover regional disparities or trends."
   ]
  },
  {
   "cell_type": "code",
   "execution_count": 23,
   "id": "d7cfc559",
   "metadata": {},
   "outputs": [],
   "source": [
    "# Define the mapping of countries to regions\n",
    "region_mapping = {\n",
    "    # North Africa\n",
    "    \"Egypt\": \"North Africa\",\n",
    "    \"Morocco\": \"North Africa\",\n",
    "    \n",
    "    # West Africa\n",
    "    \"Benin\": \"West Africa\",\n",
    "    \"Burkina Faso\": \"West Africa\",\n",
    "    \"Cote d'Ivoire\": \"West Africa\",\n",
    "    \"Gambia\": \"West Africa\",\n",
    "    \"Ghana\": \"West Africa\",\n",
    "    \"Guinea\": \"West Africa\",\n",
    "    \"Liberia\": \"West Africa\",\n",
    "    \"Mali\": \"West Africa\",\n",
    "    \"Niger\": \"West Africa\",\n",
    "    \"Nigeria\": \"West Africa\",\n",
    "    \"Senegal\": \"West Africa\",\n",
    "    \"Sierra Leone\": \"West Africa\",\n",
    "    \"Togo\": \"West Africa\",\n",
    "    \n",
    "    # East Africa\n",
    "    \"Burundi\": \"East Africa\",\n",
    "    \"Comoros\": \"East Africa\",\n",
    "    \"Eritrea\": \"East Africa\",\n",
    "    \"Ethiopia\": \"East Africa\",\n",
    "    \"Kenya\": \"East Africa\",\n",
    "    \"Rwanda\": \"East Africa\",\n",
    "    \"Tanzania\": \"East Africa\",\n",
    "    \"Uganda\": \"East Africa\",\n",
    "    \"Madagascar\": \"East Africa\",\n",
    "    \n",
    "    # Central Africa\n",
    "    \"Angola\": \"Central Africa\",\n",
    "    \"Cameroon\": \"Central Africa\",\n",
    "    \"Chad\": \"Central Africa\",\n",
    "    \"Congo\": \"Central Africa\",\n",
    "    \"Congo Democratic Republic\": \"Central Africa\",\n",
    "    \"Gabon\": \"Central Africa\",\n",
    "    \"Sao Tome and Principe\": \"Central Africa\",\n",
    "    \n",
    "    # Southern Africa\n",
    "    \"Eswatini\": \"Southern Africa\",\n",
    "    \"Lesotho\": \"Southern Africa\",\n",
    "    \"Malawi\": \"Southern Africa\",\n",
    "    \"Mozambique\": \"Southern Africa\",\n",
    "    \"Namibia\": \"Southern Africa\",\n",
    "    \"South Africa\": \"Southern Africa\",\n",
    "    \"Zambia\": \"Southern Africa\",\n",
    "    \"Zimbabwe\": \"Southern Africa\"\n",
    "}\n",
    "\n",
    "# Add the \"Region\" column to the DataFrame\n",
    "df_africa[\"Region\"] = df_africa[\"Country\"].map(region_mapping)# Define the mapping of countries to regions"
   ]
  },
  {
   "cell_type": "code",
   "execution_count": 24,
   "id": "fc5fe871",
   "metadata": {},
   "outputs": [
    {
     "data": {
      "text/html": [
       "<div>\n",
       "<style scoped>\n",
       "    .dataframe tbody tr th:only-of-type {\n",
       "        vertical-align: middle;\n",
       "    }\n",
       "\n",
       "    .dataframe tbody tr th {\n",
       "        vertical-align: top;\n",
       "    }\n",
       "\n",
       "    .dataframe thead th {\n",
       "        text-align: right;\n",
       "    }\n",
       "</style>\n",
       "<table border=\"1\" class=\"dataframe\">\n",
       "  <thead>\n",
       "    <tr style=\"text-align: right;\">\n",
       "      <th></th>\n",
       "      <th>RecordID</th>\n",
       "      <th>Country</th>\n",
       "      <th>Gender</th>\n",
       "      <th>Demographics Question</th>\n",
       "      <th>Demographics Response</th>\n",
       "      <th>Question</th>\n",
       "      <th>Survey Year</th>\n",
       "      <th>Value</th>\n",
       "      <th>Year</th>\n",
       "      <th>Region</th>\n",
       "    </tr>\n",
       "  </thead>\n",
       "  <tbody>\n",
       "    <tr>\n",
       "      <th>0</th>\n",
       "      <td>3</td>\n",
       "      <td>Angola</td>\n",
       "      <td>F</td>\n",
       "      <td>Education</td>\n",
       "      <td>Higher</td>\n",
       "      <td>... if she burns the food</td>\n",
       "      <td>01/01/2015</td>\n",
       "      <td>0.9</td>\n",
       "      <td>2015</td>\n",
       "      <td>Central Africa</td>\n",
       "    </tr>\n",
       "    <tr>\n",
       "      <th>1</th>\n",
       "      <td>3</td>\n",
       "      <td>Angola</td>\n",
       "      <td>F</td>\n",
       "      <td>Education</td>\n",
       "      <td>Secondary</td>\n",
       "      <td>... if she burns the food</td>\n",
       "      <td>01/01/2015</td>\n",
       "      <td>5.3</td>\n",
       "      <td>2015</td>\n",
       "      <td>Central Africa</td>\n",
       "    </tr>\n",
       "    <tr>\n",
       "      <th>2</th>\n",
       "      <td>3</td>\n",
       "      <td>Angola</td>\n",
       "      <td>F</td>\n",
       "      <td>Residence</td>\n",
       "      <td>Urban</td>\n",
       "      <td>... if she burns the food</td>\n",
       "      <td>01/01/2015</td>\n",
       "      <td>6.9</td>\n",
       "      <td>2015</td>\n",
       "      <td>Central Africa</td>\n",
       "    </tr>\n",
       "    <tr>\n",
       "      <th>3</th>\n",
       "      <td>3</td>\n",
       "      <td>Angola</td>\n",
       "      <td>F</td>\n",
       "      <td>Employment</td>\n",
       "      <td>Unemployed</td>\n",
       "      <td>... if she burns the food</td>\n",
       "      <td>01/01/2015</td>\n",
       "      <td>8.8</td>\n",
       "      <td>2015</td>\n",
       "      <td>Central Africa</td>\n",
       "    </tr>\n",
       "    <tr>\n",
       "      <th>4</th>\n",
       "      <td>3</td>\n",
       "      <td>Angola</td>\n",
       "      <td>F</td>\n",
       "      <td>Marital status</td>\n",
       "      <td>Never married</td>\n",
       "      <td>... if she burns the food</td>\n",
       "      <td>01/01/2015</td>\n",
       "      <td>9.8</td>\n",
       "      <td>2015</td>\n",
       "      <td>Central Africa</td>\n",
       "    </tr>\n",
       "  </tbody>\n",
       "</table>\n",
       "</div>"
      ],
      "text/plain": [
       "   RecordID Country Gender Demographics Question Demographics Response  \\\n",
       "0         3  Angola      F             Education                Higher   \n",
       "1         3  Angola      F             Education             Secondary   \n",
       "2         3  Angola      F             Residence                 Urban   \n",
       "3         3  Angola      F            Employment            Unemployed   \n",
       "4         3  Angola      F        Marital status         Never married   \n",
       "\n",
       "                    Question Survey Year  Value  Year          Region  \n",
       "0  ... if she burns the food  01/01/2015    0.9  2015  Central Africa  \n",
       "1  ... if she burns the food  01/01/2015    5.3  2015  Central Africa  \n",
       "2  ... if she burns the food  01/01/2015    6.9  2015  Central Africa  \n",
       "3  ... if she burns the food  01/01/2015    8.8  2015  Central Africa  \n",
       "4  ... if she burns the food  01/01/2015    9.8  2015  Central Africa  "
      ]
     },
     "execution_count": 24,
     "metadata": {},
     "output_type": "execute_result"
    }
   ],
   "source": [
    "df_africa.head()"
   ]
  },
  {
   "cell_type": "markdown",
   "id": "e5db909c",
   "metadata": {},
   "source": [
    "### Reordering and dropping unneccessary columns\n",
    "\n",
    "I no longer need the `Survey Year` column, so I'll drop it.\n",
    "I will also reorder the columns to place the target variable `Value` at the end to improve readability."
   ]
  },
  {
   "cell_type": "code",
   "execution_count": 25,
   "id": "17c6162c",
   "metadata": {},
   "outputs": [],
   "source": [
    "# Drop the \"Survey Year\" column\n",
    "df_africa = df_africa.drop(columns=[\"Survey Year\"])\n",
    "\n",
    "# Reorder columns to place the target column at the end\n",
    "# Explicit column order\n",
    "column_order = [\n",
    "    \"RecordID\",  \n",
    "    \"Country\",\n",
    "    \"Region\",\n",
    "    \"Year\",\n",
    "    \"Gender\",\n",
    "    \"Demographics Question\",\n",
    "    \"Demographics Response\",\n",
    "    \"Question\",\n",
    "    \"Value\"\n",
    "]\n",
    "\n",
    "# Reorder the DataFrame\n",
    "df_africa = df_africa[column_order]"
   ]
  },
  {
   "cell_type": "code",
   "execution_count": 26,
   "id": "d27b2d24",
   "metadata": {},
   "outputs": [
    {
     "data": {
      "text/html": [
       "<div>\n",
       "<style scoped>\n",
       "    .dataframe tbody tr th:only-of-type {\n",
       "        vertical-align: middle;\n",
       "    }\n",
       "\n",
       "    .dataframe tbody tr th {\n",
       "        vertical-align: top;\n",
       "    }\n",
       "\n",
       "    .dataframe thead th {\n",
       "        text-align: right;\n",
       "    }\n",
       "</style>\n",
       "<table border=\"1\" class=\"dataframe\">\n",
       "  <thead>\n",
       "    <tr style=\"text-align: right;\">\n",
       "      <th></th>\n",
       "      <th>RecordID</th>\n",
       "      <th>Country</th>\n",
       "      <th>Region</th>\n",
       "      <th>Year</th>\n",
       "      <th>Gender</th>\n",
       "      <th>Demographics Question</th>\n",
       "      <th>Demographics Response</th>\n",
       "      <th>Question</th>\n",
       "      <th>Value</th>\n",
       "    </tr>\n",
       "  </thead>\n",
       "  <tbody>\n",
       "    <tr>\n",
       "      <th>0</th>\n",
       "      <td>3</td>\n",
       "      <td>Angola</td>\n",
       "      <td>Central Africa</td>\n",
       "      <td>2015</td>\n",
       "      <td>F</td>\n",
       "      <td>Education</td>\n",
       "      <td>Higher</td>\n",
       "      <td>... if she burns the food</td>\n",
       "      <td>0.9</td>\n",
       "    </tr>\n",
       "    <tr>\n",
       "      <th>1</th>\n",
       "      <td>3</td>\n",
       "      <td>Angola</td>\n",
       "      <td>Central Africa</td>\n",
       "      <td>2015</td>\n",
       "      <td>F</td>\n",
       "      <td>Education</td>\n",
       "      <td>Secondary</td>\n",
       "      <td>... if she burns the food</td>\n",
       "      <td>5.3</td>\n",
       "    </tr>\n",
       "    <tr>\n",
       "      <th>2</th>\n",
       "      <td>3</td>\n",
       "      <td>Angola</td>\n",
       "      <td>Central Africa</td>\n",
       "      <td>2015</td>\n",
       "      <td>F</td>\n",
       "      <td>Residence</td>\n",
       "      <td>Urban</td>\n",
       "      <td>... if she burns the food</td>\n",
       "      <td>6.9</td>\n",
       "    </tr>\n",
       "    <tr>\n",
       "      <th>3</th>\n",
       "      <td>3</td>\n",
       "      <td>Angola</td>\n",
       "      <td>Central Africa</td>\n",
       "      <td>2015</td>\n",
       "      <td>F</td>\n",
       "      <td>Employment</td>\n",
       "      <td>Unemployed</td>\n",
       "      <td>... if she burns the food</td>\n",
       "      <td>8.8</td>\n",
       "    </tr>\n",
       "    <tr>\n",
       "      <th>4</th>\n",
       "      <td>3</td>\n",
       "      <td>Angola</td>\n",
       "      <td>Central Africa</td>\n",
       "      <td>2015</td>\n",
       "      <td>F</td>\n",
       "      <td>Marital status</td>\n",
       "      <td>Never married</td>\n",
       "      <td>... if she burns the food</td>\n",
       "      <td>9.8</td>\n",
       "    </tr>\n",
       "  </tbody>\n",
       "</table>\n",
       "</div>"
      ],
      "text/plain": [
       "   RecordID Country          Region  Year Gender Demographics Question  \\\n",
       "0         3  Angola  Central Africa  2015      F             Education   \n",
       "1         3  Angola  Central Africa  2015      F             Education   \n",
       "2         3  Angola  Central Africa  2015      F             Residence   \n",
       "3         3  Angola  Central Africa  2015      F            Employment   \n",
       "4         3  Angola  Central Africa  2015      F        Marital status   \n",
       "\n",
       "  Demographics Response                   Question  Value  \n",
       "0                Higher  ... if she burns the food    0.9  \n",
       "1             Secondary  ... if she burns the food    5.3  \n",
       "2                 Urban  ... if she burns the food    6.9  \n",
       "3            Unemployed  ... if she burns the food    8.8  \n",
       "4         Never married  ... if she burns the food    9.8  "
      ]
     },
     "execution_count": 26,
     "metadata": {},
     "output_type": "execute_result"
    }
   ],
   "source": [
    "df_africa.head()"
   ]
  },
  {
   "cell_type": "markdown",
   "id": "9f01c380",
   "metadata": {},
   "source": [
    "### Confirming datatypes and saving transformed dataset\n",
    "\n",
    "After confirming that all the columns are of the **correct datatype**, I **save the cleaned dataset** as a new CSV file for future use.\n",
    "\n",
    "This allows for reproducibility and avoids the need to repeat preprocessing steps."
   ]
  },
  {
   "cell_type": "code",
   "execution_count": 27,
   "id": "14198003",
   "metadata": {},
   "outputs": [
    {
     "name": "stdout",
     "output_type": "stream",
     "text": [
      "<class 'pandas.core.frame.DataFrame'>\n",
      "RangeIndex: 7020 entries, 0 to 7019\n",
      "Data columns (total 9 columns):\n",
      " #   Column                 Non-Null Count  Dtype  \n",
      "---  ------                 --------------  -----  \n",
      " 0   RecordID               7020 non-null   int64  \n",
      " 1   Country                7020 non-null   object \n",
      " 2   Region                 7020 non-null   object \n",
      " 3   Year                   7020 non-null   int32  \n",
      " 4   Gender                 7020 non-null   object \n",
      " 5   Demographics Question  7020 non-null   object \n",
      " 6   Demographics Response  7020 non-null   object \n",
      " 7   Question               7020 non-null   object \n",
      " 8   Value                  6672 non-null   float64\n",
      "dtypes: float64(1), int32(1), int64(1), object(6)\n",
      "memory usage: 466.3+ KB\n"
     ]
    }
   ],
   "source": [
    "df_africa.info()"
   ]
  },
  {
   "cell_type": "code",
   "execution_count": 28,
   "id": "ac8c4552",
   "metadata": {},
   "outputs": [],
   "source": [
    "# Save to a CSV file\n",
    "df_africa.to_csv(\"Africa_dataset.csv\", index=False)"
   ]
  },
  {
   "cell_type": "code",
   "execution_count": 29,
   "id": "c699ff69",
   "metadata": {},
   "outputs": [],
   "source": [
    "# Load dataset\n",
    "df_africa = pd.read_csv(\"Africa_dataset.csv\")"
   ]
  },
  {
   "cell_type": "code",
   "execution_count": 30,
   "id": "88686c0e",
   "metadata": {},
   "outputs": [
    {
     "data": {
      "text/html": [
       "<div>\n",
       "<style scoped>\n",
       "    .dataframe tbody tr th:only-of-type {\n",
       "        vertical-align: middle;\n",
       "    }\n",
       "\n",
       "    .dataframe tbody tr th {\n",
       "        vertical-align: top;\n",
       "    }\n",
       "\n",
       "    .dataframe thead th {\n",
       "        text-align: right;\n",
       "    }\n",
       "</style>\n",
       "<table border=\"1\" class=\"dataframe\">\n",
       "  <thead>\n",
       "    <tr style=\"text-align: right;\">\n",
       "      <th></th>\n",
       "      <th>RecordID</th>\n",
       "      <th>Country</th>\n",
       "      <th>Region</th>\n",
       "      <th>Year</th>\n",
       "      <th>Gender</th>\n",
       "      <th>Demographics Question</th>\n",
       "      <th>Demographics Response</th>\n",
       "      <th>Question</th>\n",
       "      <th>Value</th>\n",
       "    </tr>\n",
       "  </thead>\n",
       "  <tbody>\n",
       "    <tr>\n",
       "      <th>0</th>\n",
       "      <td>3</td>\n",
       "      <td>Angola</td>\n",
       "      <td>Central Africa</td>\n",
       "      <td>2015</td>\n",
       "      <td>F</td>\n",
       "      <td>Education</td>\n",
       "      <td>Higher</td>\n",
       "      <td>... if she burns the food</td>\n",
       "      <td>0.9</td>\n",
       "    </tr>\n",
       "    <tr>\n",
       "      <th>1</th>\n",
       "      <td>3</td>\n",
       "      <td>Angola</td>\n",
       "      <td>Central Africa</td>\n",
       "      <td>2015</td>\n",
       "      <td>F</td>\n",
       "      <td>Education</td>\n",
       "      <td>Secondary</td>\n",
       "      <td>... if she burns the food</td>\n",
       "      <td>5.3</td>\n",
       "    </tr>\n",
       "    <tr>\n",
       "      <th>2</th>\n",
       "      <td>3</td>\n",
       "      <td>Angola</td>\n",
       "      <td>Central Africa</td>\n",
       "      <td>2015</td>\n",
       "      <td>F</td>\n",
       "      <td>Residence</td>\n",
       "      <td>Urban</td>\n",
       "      <td>... if she burns the food</td>\n",
       "      <td>6.9</td>\n",
       "    </tr>\n",
       "    <tr>\n",
       "      <th>3</th>\n",
       "      <td>3</td>\n",
       "      <td>Angola</td>\n",
       "      <td>Central Africa</td>\n",
       "      <td>2015</td>\n",
       "      <td>F</td>\n",
       "      <td>Employment</td>\n",
       "      <td>Unemployed</td>\n",
       "      <td>... if she burns the food</td>\n",
       "      <td>8.8</td>\n",
       "    </tr>\n",
       "    <tr>\n",
       "      <th>4</th>\n",
       "      <td>3</td>\n",
       "      <td>Angola</td>\n",
       "      <td>Central Africa</td>\n",
       "      <td>2015</td>\n",
       "      <td>F</td>\n",
       "      <td>Marital status</td>\n",
       "      <td>Never married</td>\n",
       "      <td>... if she burns the food</td>\n",
       "      <td>9.8</td>\n",
       "    </tr>\n",
       "    <tr>\n",
       "      <th>5</th>\n",
       "      <td>3</td>\n",
       "      <td>Angola</td>\n",
       "      <td>Central Africa</td>\n",
       "      <td>2015</td>\n",
       "      <td>F</td>\n",
       "      <td>Employment</td>\n",
       "      <td>Employed for cash</td>\n",
       "      <td>... if she burns the food</td>\n",
       "      <td>9.9</td>\n",
       "    </tr>\n",
       "    <tr>\n",
       "      <th>6</th>\n",
       "      <td>3</td>\n",
       "      <td>Angola</td>\n",
       "      <td>Central Africa</td>\n",
       "      <td>2015</td>\n",
       "      <td>F</td>\n",
       "      <td>Age</td>\n",
       "      <td>25-34</td>\n",
       "      <td>... if she burns the food</td>\n",
       "      <td>10.0</td>\n",
       "    </tr>\n",
       "    <tr>\n",
       "      <th>7</th>\n",
       "      <td>3</td>\n",
       "      <td>Angola</td>\n",
       "      <td>Central Africa</td>\n",
       "      <td>2015</td>\n",
       "      <td>F</td>\n",
       "      <td>Age</td>\n",
       "      <td>15-24</td>\n",
       "      <td>... if she burns the food</td>\n",
       "      <td>10.6</td>\n",
       "    </tr>\n",
       "    <tr>\n",
       "      <th>8</th>\n",
       "      <td>3</td>\n",
       "      <td>Angola</td>\n",
       "      <td>Central Africa</td>\n",
       "      <td>2015</td>\n",
       "      <td>F</td>\n",
       "      <td>Marital status</td>\n",
       "      <td>Married or living together</td>\n",
       "      <td>... if she burns the food</td>\n",
       "      <td>10.8</td>\n",
       "    </tr>\n",
       "    <tr>\n",
       "      <th>9</th>\n",
       "      <td>3</td>\n",
       "      <td>Angola</td>\n",
       "      <td>Central Africa</td>\n",
       "      <td>2015</td>\n",
       "      <td>F</td>\n",
       "      <td>Age</td>\n",
       "      <td>35-49</td>\n",
       "      <td>... if she burns the food</td>\n",
       "      <td>11.0</td>\n",
       "    </tr>\n",
       "    <tr>\n",
       "      <th>10</th>\n",
       "      <td>3</td>\n",
       "      <td>Angola</td>\n",
       "      <td>Central Africa</td>\n",
       "      <td>2015</td>\n",
       "      <td>F</td>\n",
       "      <td>Marital status</td>\n",
       "      <td>Widowed, divorced, separated</td>\n",
       "      <td>... if she burns the food</td>\n",
       "      <td>12.2</td>\n",
       "    </tr>\n",
       "    <tr>\n",
       "      <th>11</th>\n",
       "      <td>3</td>\n",
       "      <td>Angola</td>\n",
       "      <td>Central Africa</td>\n",
       "      <td>2015</td>\n",
       "      <td>F</td>\n",
       "      <td>Education</td>\n",
       "      <td>Primary</td>\n",
       "      <td>... if she burns the food</td>\n",
       "      <td>13.4</td>\n",
       "    </tr>\n",
       "    <tr>\n",
       "      <th>12</th>\n",
       "      <td>3</td>\n",
       "      <td>Angola</td>\n",
       "      <td>Central Africa</td>\n",
       "      <td>2015</td>\n",
       "      <td>F</td>\n",
       "      <td>Employment</td>\n",
       "      <td>Employed for kind</td>\n",
       "      <td>... if she burns the food</td>\n",
       "      <td>14.3</td>\n",
       "    </tr>\n",
       "    <tr>\n",
       "      <th>13</th>\n",
       "      <td>3</td>\n",
       "      <td>Angola</td>\n",
       "      <td>Central Africa</td>\n",
       "      <td>2015</td>\n",
       "      <td>F</td>\n",
       "      <td>Education</td>\n",
       "      <td>No education</td>\n",
       "      <td>... if she burns the food</td>\n",
       "      <td>17.3</td>\n",
       "    </tr>\n",
       "    <tr>\n",
       "      <th>14</th>\n",
       "      <td>3</td>\n",
       "      <td>Angola</td>\n",
       "      <td>Central Africa</td>\n",
       "      <td>2015</td>\n",
       "      <td>F</td>\n",
       "      <td>Residence</td>\n",
       "      <td>Rural</td>\n",
       "      <td>... if she burns the food</td>\n",
       "      <td>19.0</td>\n",
       "    </tr>\n",
       "    <tr>\n",
       "      <th>15</th>\n",
       "      <td>3</td>\n",
       "      <td>Angola</td>\n",
       "      <td>Central Africa</td>\n",
       "      <td>2015</td>\n",
       "      <td>M</td>\n",
       "      <td>Education</td>\n",
       "      <td>Higher</td>\n",
       "      <td>... if she burns the food</td>\n",
       "      <td>0.7</td>\n",
       "    </tr>\n",
       "    <tr>\n",
       "      <th>16</th>\n",
       "      <td>3</td>\n",
       "      <td>Angola</td>\n",
       "      <td>Central Africa</td>\n",
       "      <td>2015</td>\n",
       "      <td>M</td>\n",
       "      <td>Age</td>\n",
       "      <td>35-49</td>\n",
       "      <td>... if she burns the food</td>\n",
       "      <td>3.7</td>\n",
       "    </tr>\n",
       "    <tr>\n",
       "      <th>17</th>\n",
       "      <td>3</td>\n",
       "      <td>Angola</td>\n",
       "      <td>Central Africa</td>\n",
       "      <td>2015</td>\n",
       "      <td>M</td>\n",
       "      <td>Marital status</td>\n",
       "      <td>Married or living together</td>\n",
       "      <td>... if she burns the food</td>\n",
       "      <td>4.4</td>\n",
       "    </tr>\n",
       "    <tr>\n",
       "      <th>18</th>\n",
       "      <td>3</td>\n",
       "      <td>Angola</td>\n",
       "      <td>Central Africa</td>\n",
       "      <td>2015</td>\n",
       "      <td>M</td>\n",
       "      <td>Residence</td>\n",
       "      <td>Urban</td>\n",
       "      <td>... if she burns the food</td>\n",
       "      <td>4.9</td>\n",
       "    </tr>\n",
       "    <tr>\n",
       "      <th>19</th>\n",
       "      <td>3</td>\n",
       "      <td>Angola</td>\n",
       "      <td>Central Africa</td>\n",
       "      <td>2015</td>\n",
       "      <td>M</td>\n",
       "      <td>Education</td>\n",
       "      <td>Secondary</td>\n",
       "      <td>... if she burns the food</td>\n",
       "      <td>5.0</td>\n",
       "    </tr>\n",
       "  </tbody>\n",
       "</table>\n",
       "</div>"
      ],
      "text/plain": [
       "    RecordID Country          Region  Year Gender Demographics Question  \\\n",
       "0          3  Angola  Central Africa  2015      F             Education   \n",
       "1          3  Angola  Central Africa  2015      F             Education   \n",
       "2          3  Angola  Central Africa  2015      F             Residence   \n",
       "3          3  Angola  Central Africa  2015      F            Employment   \n",
       "4          3  Angola  Central Africa  2015      F        Marital status   \n",
       "5          3  Angola  Central Africa  2015      F            Employment   \n",
       "6          3  Angola  Central Africa  2015      F                   Age   \n",
       "7          3  Angola  Central Africa  2015      F                   Age   \n",
       "8          3  Angola  Central Africa  2015      F        Marital status   \n",
       "9          3  Angola  Central Africa  2015      F                   Age   \n",
       "10         3  Angola  Central Africa  2015      F        Marital status   \n",
       "11         3  Angola  Central Africa  2015      F             Education   \n",
       "12         3  Angola  Central Africa  2015      F            Employment   \n",
       "13         3  Angola  Central Africa  2015      F             Education   \n",
       "14         3  Angola  Central Africa  2015      F             Residence   \n",
       "15         3  Angola  Central Africa  2015      M             Education   \n",
       "16         3  Angola  Central Africa  2015      M                   Age   \n",
       "17         3  Angola  Central Africa  2015      M        Marital status   \n",
       "18         3  Angola  Central Africa  2015      M             Residence   \n",
       "19         3  Angola  Central Africa  2015      M             Education   \n",
       "\n",
       "           Demographics Response                   Question  Value  \n",
       "0                         Higher  ... if she burns the food    0.9  \n",
       "1                      Secondary  ... if she burns the food    5.3  \n",
       "2                          Urban  ... if she burns the food    6.9  \n",
       "3                     Unemployed  ... if she burns the food    8.8  \n",
       "4                  Never married  ... if she burns the food    9.8  \n",
       "5              Employed for cash  ... if she burns the food    9.9  \n",
       "6                          25-34  ... if she burns the food   10.0  \n",
       "7                          15-24  ... if she burns the food   10.6  \n",
       "8     Married or living together  ... if she burns the food   10.8  \n",
       "9                          35-49  ... if she burns the food   11.0  \n",
       "10  Widowed, divorced, separated  ... if she burns the food   12.2  \n",
       "11                       Primary  ... if she burns the food   13.4  \n",
       "12             Employed for kind  ... if she burns the food   14.3  \n",
       "13                  No education  ... if she burns the food   17.3  \n",
       "14                         Rural  ... if she burns the food   19.0  \n",
       "15                        Higher  ... if she burns the food    0.7  \n",
       "16                         35-49  ... if she burns the food    3.7  \n",
       "17    Married or living together  ... if she burns the food    4.4  \n",
       "18                         Urban  ... if she burns the food    4.9  \n",
       "19                     Secondary  ... if she burns the food    5.0  "
      ]
     },
     "execution_count": 30,
     "metadata": {},
     "output_type": "execute_result"
    }
   ],
   "source": [
    "df_africa.head(20)"
   ]
  },
  {
   "cell_type": "markdown",
   "id": "8753864a",
   "metadata": {},
   "source": [
    "### Seperate the dataset into different demographic groupings"
   ]
  },
  {
   "cell_type": "markdown",
   "id": "7c895f4d",
   "metadata": {},
   "source": [
    "We are provided with group level statistics- \n",
    "The target value in my dataset is % of people surveyed in the relevant group who agree with the question (e.g. the percentage of women aged 15-24 in Afghanistan who agree that a husband is justified in hitting or beating his wife if she burns the food). We have the demographic question which Refers to the different types of demographic groupings used to segment respondents – marital status, education level, employment status, residence type, or age. My thinking is that we can only compare these demographic categories seperately as this structure does not allow us to analyse combined demographics due to the values in each being aggregations.\n",
    "\n",
    "Splitting the Dataset by Demographic Categories\n",
    "The dataset includes five demographic categories: marital status, education level, employment status, residence type, and age. To facilitate focused analysis, I split the dataset into separate CSV files for each demographic category.\n",
    "\n",
    "Why split the dataset?\n",
    "\n",
    "Each demographic category represents a distinct dimension of the data, and analyzing them separately can provide deeper insights.\n",
    "\n",
    "Example: Analyzing the \"Age\" dataset separately allows us to understand how agreement rates vary across different age groups without the noise of other demographic factors."
   ]
  },
  {
   "cell_type": "code",
   "execution_count": 31,
   "id": "651c7e06",
   "metadata": {},
   "outputs": [],
   "source": [
    "# List of unique demographic categories\n",
    "demographic_categories = df_africa[\"Demographics Question\"].unique()\n",
    "\n",
    "# Loop through each category and create a separate dataset\n",
    "for category in demographic_categories:\n",
    "    # Filter the main DataFrame for the current category\n",
    "    demographic_dataset = df_africa[df_africa[\"Demographics Question\"] == category].drop(columns=['Demographics Question'])\n",
    "\n",
    "    # Save to a CSV file\n",
    "    demographic_dataset.to_csv(f\"{category.replace(' ', '_')}_dataset.csv\", index=False)"
   ]
  },
  {
   "cell_type": "markdown",
   "id": "a80d2da8",
   "metadata": {},
   "source": [
    "Note, I have dropped the `Demographics Question` column for the demographic datasets since it holds the same value and does not add new information.\n",
    "\n",
    "We have created datasets for each demographic and stored each in a seperate CSV file which we can now import in a notebook or visualization software. This allows us to perform separate analyses for each demographic grouping as required by the dataset structure."
   ]
  },
  {
   "cell_type": "code",
   "execution_count": 32,
   "id": "519142b2",
   "metadata": {
    "scrolled": true
   },
   "outputs": [
    {
     "data": {
      "text/html": [
       "<div>\n",
       "<style scoped>\n",
       "    .dataframe tbody tr th:only-of-type {\n",
       "        vertical-align: middle;\n",
       "    }\n",
       "\n",
       "    .dataframe tbody tr th {\n",
       "        vertical-align: top;\n",
       "    }\n",
       "\n",
       "    .dataframe thead th {\n",
       "        text-align: right;\n",
       "    }\n",
       "</style>\n",
       "<table border=\"1\" class=\"dataframe\">\n",
       "  <thead>\n",
       "    <tr style=\"text-align: right;\">\n",
       "      <th></th>\n",
       "      <th>RecordID</th>\n",
       "      <th>Country</th>\n",
       "      <th>Region</th>\n",
       "      <th>Year</th>\n",
       "      <th>Gender</th>\n",
       "      <th>Demographics Response</th>\n",
       "      <th>Question</th>\n",
       "      <th>Value</th>\n",
       "    </tr>\n",
       "  </thead>\n",
       "  <tbody>\n",
       "    <tr>\n",
       "      <th>0</th>\n",
       "      <td>3</td>\n",
       "      <td>Angola</td>\n",
       "      <td>Central Africa</td>\n",
       "      <td>2015</td>\n",
       "      <td>F</td>\n",
       "      <td>25-34</td>\n",
       "      <td>... if she burns the food</td>\n",
       "      <td>10.0</td>\n",
       "    </tr>\n",
       "    <tr>\n",
       "      <th>1</th>\n",
       "      <td>3</td>\n",
       "      <td>Angola</td>\n",
       "      <td>Central Africa</td>\n",
       "      <td>2015</td>\n",
       "      <td>F</td>\n",
       "      <td>15-24</td>\n",
       "      <td>... if she burns the food</td>\n",
       "      <td>10.6</td>\n",
       "    </tr>\n",
       "    <tr>\n",
       "      <th>2</th>\n",
       "      <td>3</td>\n",
       "      <td>Angola</td>\n",
       "      <td>Central Africa</td>\n",
       "      <td>2015</td>\n",
       "      <td>F</td>\n",
       "      <td>35-49</td>\n",
       "      <td>... if she burns the food</td>\n",
       "      <td>11.0</td>\n",
       "    </tr>\n",
       "    <tr>\n",
       "      <th>3</th>\n",
       "      <td>3</td>\n",
       "      <td>Angola</td>\n",
       "      <td>Central Africa</td>\n",
       "      <td>2015</td>\n",
       "      <td>M</td>\n",
       "      <td>35-49</td>\n",
       "      <td>... if she burns the food</td>\n",
       "      <td>3.7</td>\n",
       "    </tr>\n",
       "    <tr>\n",
       "      <th>4</th>\n",
       "      <td>3</td>\n",
       "      <td>Angola</td>\n",
       "      <td>Central Africa</td>\n",
       "      <td>2015</td>\n",
       "      <td>M</td>\n",
       "      <td>25-34</td>\n",
       "      <td>... if she burns the food</td>\n",
       "      <td>5.3</td>\n",
       "    </tr>\n",
       "  </tbody>\n",
       "</table>\n",
       "</div>"
      ],
      "text/plain": [
       "   RecordID Country          Region  Year Gender Demographics Response  \\\n",
       "0         3  Angola  Central Africa  2015      F                 25-34   \n",
       "1         3  Angola  Central Africa  2015      F                 15-24   \n",
       "2         3  Angola  Central Africa  2015      F                 35-49   \n",
       "3         3  Angola  Central Africa  2015      M                 35-49   \n",
       "4         3  Angola  Central Africa  2015      M                 25-34   \n",
       "\n",
       "                    Question  Value  \n",
       "0  ... if she burns the food   10.0  \n",
       "1  ... if she burns the food   10.6  \n",
       "2  ... if she burns the food   11.0  \n",
       "3  ... if she burns the food    3.7  \n",
       "4  ... if she burns the food    5.3  "
      ]
     },
     "execution_count": 32,
     "metadata": {},
     "output_type": "execute_result"
    }
   ],
   "source": [
    "df_age=pd.read_csv(\"Age_dataset.csv\")\n",
    "df_age.head()"
   ]
  },
  {
   "cell_type": "markdown",
   "id": "72bd0469",
   "metadata": {},
   "source": [
    "[Back to table of contents](#Table-of-contents)\n"
   ]
  },
  {
   "cell_type": "markdown",
   "id": "a3e6bf24",
   "metadata": {},
   "source": [
    "## 4. Analysis\n",
    "---"
   ]
  },
  {
   "cell_type": "markdown",
   "id": "4ca6bec5",
   "metadata": {},
   "source": [
    "### Graphical analysis\n",
    "\n",
    "Note, I will use median as the central tendancy value since our values are skewed, to avoid influence of outliers.\n",
    "\n",
    "to reduce redundancy, I will use the following functions to plot barplots and boxplots respectively:"
   ]
  },
  {
   "cell_type": "code",
   "execution_count": 33,
   "id": "4374ddb8",
   "metadata": {},
   "outputs": [],
   "source": [
    "def barplot(X, Y, dataset, group):\n",
    "    median = dataset.groupby(group)['Value'].median().sort_values(ascending=False).reset_index()\n",
    "    sns.barplot(x=X, y=Y, data=median)"
   ]
  },
  {
   "cell_type": "code",
   "execution_count": 34,
   "id": "5d5b4a1f",
   "metadata": {},
   "outputs": [],
   "source": [
    "def boxplot(X, Y, dataset, group):\n",
    "    plot = sns.boxplot(x=X, y=Y, data=dataset, order=dataset.groupby(group)[\"Value\"].median().sort_values(ascending=False).index)\n",
    "    return plot"
   ]
  },
  {
   "cell_type": "markdown",
   "id": "ecf74de0",
   "metadata": {},
   "source": [
    "#### Male vs Female: Who agrees with DV more?"
   ]
  },
  {
   "cell_type": "code",
   "execution_count": 35,
   "id": "da4c4249",
   "metadata": {},
   "outputs": [
    {
     "data": {
      "image/png": "[encoded data removed]",
      "text/plain": [
       "<Figure size 640x480 with 1 Axes>"
      ]
     },
     "metadata": {},
     "output_type": "display_data"
    }
   ],
   "source": [
    "# Calculate median 'Value' by gender and create a bar plot\n",
    "barplot('Gender', 'Value', df_africa, 'Gender')\n",
    "plt.title('Median % Agreement by Gender')\n",
    "plt.xlabel('Gender')\n",
    "plt.ylabel('% Agreement')\n",
    "plt.show()"
   ]
  },
  {
   "cell_type": "markdown",
   "id": "b40580b3",
   "metadata": {},
   "source": [
    "The bar plot indicates that females show a higher median percentage of agreement that violence against women is justified compared to males. \n",
    "\n",
    "This is contrary to common expectations and suggests how nuanced cultural and social influences can be when it comes to affecting women's attitudes toward GBV."
   ]
  },
  {
   "cell_type": "code",
   "execution_count": 36,
   "id": "23710d8b",
   "metadata": {},
   "outputs": [
    {
     "data": {
      "image/png": "[encoded data removed]",
      "text/plain": [
       "<Figure size 640x480 with 1 Axes>"
      ]
     },
     "metadata": {},
     "output_type": "display_data"
    }
   ],
   "source": [
    "# Create a box plot for Value by Gender\n",
    "boxplot('Gender', 'Value', df_africa, 'Gender')\n",
    "plt.title('Distribution of Value by Gender')\n",
    "plt.xlabel('Gender')\n",
    "plt.ylabel('Value')\n",
    "plt.show()"
   ]
  },
  {
   "cell_type": "markdown",
   "id": "61f6dea9",
   "metadata": {},
   "source": [
    "The wider interquartile range in the box plot for females suggests not only higher central agreement but also greater variability among females in their responses.\n",
    "\n",
    "For the males, the box plot highlights a significant presence of outliers. This indicates that while the median agreement with justifications for GBV among males may be lower, they hold polarized views, where some individuals strongly support GBV.\n",
    "\n",
    "**We will conduct further exploration to understand these outliers.**"
   ]
  },
  {
   "cell_type": "markdown",
   "id": "6ea1d7b1",
   "metadata": {},
   "source": []
  },
  {
   "cell_type": "markdown",
   "id": "efb152b2",
   "metadata": {},
   "source": [
    "___"
   ]
  },
  {
   "cell_type": "markdown",
   "id": "0c40fa12",
   "metadata": {},
   "source": [
    "#### How do African regions rank when it comes to justifying DV?"
   ]
  },
  {
   "cell_type": "code",
   "execution_count": 37,
   "id": "623dfc1b",
   "metadata": {},
   "outputs": [
    {
     "data": {
      "image/png": "[encoded data removed]",
      "text/plain": [
       "<Figure size 640x480 with 1 Axes>"
      ]
     },
     "metadata": {},
     "output_type": "display_data"
    }
   ],
   "source": [
    "# Calculate median 'Value' by region and create a bar plot\n",
    "barplot('Region', 'Value', df_africa, 'Region')\n",
    "plt.title('Median % Agreement by Region')\n",
    "plt.xticks(rotation=45)  # Rotates the region names for better readability\n",
    "plt.xlabel('Region')\n",
    "plt.ylabel('% Agreement')\n",
    "plt.show()"
   ]
  },
  {
   "cell_type": "markdown",
   "id": "4a21b642",
   "metadata": {},
   "source": [
    "`North Africa` shows the highest median agreement with justifications for gender-based violence (GBV), while `Southern Africa` shows the lowest. `Central Africa`, `East Africa`, and `West Africa` show moderate to high levels of agreement, indicating a prevalent acceptance of GBV in these regions as well.\n",
    "\n",
    "This regional variations in attitudes toward GBV might suggest influences by cultural, economic, religious and legal factors specific to each region."
   ]
  },
  {
   "cell_type": "markdown",
   "id": "e08208c7",
   "metadata": {},
   "source": [
    "I will also plot a box plot to help me understand not just the central tendencies but also the variability and presence of outliers within each category, providing a comprehensive view of how responses differ across groups."
   ]
  },
  {
   "cell_type": "code",
   "execution_count": 38,
   "id": "29a62351",
   "metadata": {},
   "outputs": [
    {
     "data": {
      "image/png": "[encoded data removed]",
      "text/plain": [
       "<Figure size 640x480 with 1 Axes>"
      ]
     },
     "metadata": {},
     "output_type": "display_data"
    }
   ],
   "source": [
    "# Create a box plot for Value by Region\n",
    "boxplot('Region', 'Value', df_africa, 'Region')\n",
    "plt.title('Distribution of Value by Region')\n",
    "plt.xlabel('Region')\n",
    "plt.ylabel('Value')\n",
    "plt.xticks(rotation=45)  # Rotates the labels for better readability\n",
    "plt.show()"
   ]
  },
  {
   "cell_type": "markdown",
   "id": "b248f718",
   "metadata": {},
   "source": [
    "While we can see variability in the `North` and `Central` `Africa`'s responses, there are no outliers, indicating a high, yet more uniform opinion on GBV across this region.\n",
    "\n",
    "With less variability and high outliers, `East` and `West Africa` show that there are extreme views endorsing GBV among certain respondents.\n",
    "\n",
    "`Southern africa` shows the least variability suggesting a potential  consensus against GBV in that region.\n",
    "___"
   ]
  },
  {
   "cell_type": "markdown",
   "id": "b1f7e1ae",
   "metadata": {},
   "source": [
    "#### Which reasons do africans find justifiable for DV?"
   ]
  },
  {
   "cell_type": "code",
   "execution_count": 39,
   "id": "d45cc137",
   "metadata": {},
   "outputs": [
    {
     "data": {
      "image/png": "[encoded data removed]",
      "text/plain": [
       "<Figure size 640x480 with 1 Axes>"
      ]
     },
     "metadata": {},
     "output_type": "display_data"
    }
   ],
   "source": [
    "# 'Reason' is stored in the 'Question' column\n",
    "barplot('Value', 'Question', df_africa, 'Question')\n",
    "plt.title('Median % Agreement by Reason for Violence')\n",
    "plt.xlabel('% Agreement')\n",
    "plt.ylabel('Reason')\n",
    "plt.show()"
   ]
  },
  {
   "cell_type": "markdown",
   "id": "dd32bed5",
   "metadata": {},
   "source": [
    "With the highest median percentage of agreement among all reasons,`Neglecting the Children` seems to be the most widely accepted justification for GBV which shows emphasis on the primary role of women as caregivers.\n",
    "\n",
    "Other reasons that hold a significant level of median agreement are `Going Out Without Telling Him` and `Arguing with Him`. **This shows a strong cultural or societal expectation regarding women’s autonomy and communication- and submitting to a man' authority (the authority that men an regarded with in marriage- authoritative, submissive that men ans woen assume in a marriage setting.**\n",
    "\n",
    "While `Refusing to Have Sex with Him` has a lower median agreement compared to the top reasons, it is still noticeable, indicating ongoing issues with consent and marital rights.\n",
    "\n",
    "`Burning the Food` is seen to be the least justifiable reason for GBV compared to others."
   ]
  },
  {
   "cell_type": "code",
   "execution_count": 40,
   "id": "c45c45b1",
   "metadata": {},
   "outputs": [
    {
     "data": {
      "image/png": "[encoded data removed]",
      "text/plain": [
       "<Figure size 640x480 with 1 Axes>"
      ]
     },
     "metadata": {},
     "output_type": "display_data"
    }
   ],
   "source": [
    "# Create a box plot for Value by Reason\n",
    "boxplot('Value', 'Question', df_africa, 'Question')\n",
    "plt.title('Distribution of Value by Reasons for Violence')\n",
    "plt.xlabel('Value')\n",
    "plt.ylabel('Reason')\n",
    "plt.show()"
   ]
  },
  {
   "cell_type": "markdown",
   "id": "523acc3e",
   "metadata": {},
   "source": [
    "All reasons show a range of agreement values, and the presence of outliers which indicates that some individuals hold strong beliefs that justify GBV based on these reasons.\n",
    "___"
   ]
  },
  {
   "cell_type": "markdown",
   "id": "80752e59",
   "metadata": {},
   "source": [
    "#### How do the following demographics impact agreement to domestic violence in Africa?"
   ]
  },
  {
   "cell_type": "markdown",
   "id": "e8dc63e9",
   "metadata": {},
   "source": [
    "#### a) Age"
   ]
  },
  {
   "cell_type": "code",
   "execution_count": 41,
   "id": "32e56c3b",
   "metadata": {},
   "outputs": [
    {
     "data": {
      "image/png": "[encoded data removed]",
      "text/plain": [
       "<Figure size 640x480 with 1 Axes>"
      ]
     },
     "metadata": {},
     "output_type": "display_data"
    }
   ],
   "source": [
    "#load_dataset\n",
    "df_age = pd.read_csv(\"Age_dataset.csv\")\n",
    "\n",
    "# Bar plot for median value by age group\n",
    "barplot('Demographics Response', 'Value', df_age, 'Demographics Response')\n",
    "plt.title('Median % Agreement by Age Group')\n",
    "plt.xlabel('Age Group')\n",
    "plt.ylabel('% Agreement')\n",
    "plt.show()"
   ]
  },
  {
   "cell_type": "markdown",
   "id": "352b0e60",
   "metadata": {},
   "source": [
    "The median agreement is highest among the youngest age group, `15-24`. This could suggest that younger individuals may be more influenced by certain cultural norms or peer pressures that justify GBV.\n",
    "\n",
    "The median agreement level then moderately decreases as we move to the older age groups. This could be due to changes in personal, social, or economic circumstances that influence perceptions on gender norms over time and age."
   ]
  },
  {
   "cell_type": "code",
   "execution_count": 42,
   "id": "0ea1fce1",
   "metadata": {},
   "outputs": [
    {
     "data": {
      "image/png": "[encoded data removed]",
      "text/plain": [
       "<Figure size 640x480 with 1 Axes>"
      ]
     },
     "metadata": {},
     "output_type": "display_data"
    }
   ],
   "source": [
    "# Box plot for Value distribution by age group\n",
    "boxplot('Demographics Response', 'Value', df_age, \"Demographics Response\")\n",
    "plt.title('Distribution of Value by by Age Group')\n",
    "plt.xlabel('Age Group')\n",
    "plt.ylabel('Value')\n",
    "plt.show()"
   ]
  },
  {
   "cell_type": "markdown",
   "id": "428367f2",
   "metadata": {},
   "source": [
    "The box plot shows moderate and similar spread among all the age groups.\n",
    "However, outliers are seen to become more with age, suggesting that deep rooted beliefs supporting GBV can persist or even strengthen with age in some individuals."
   ]
  },
  {
   "cell_type": "markdown",
   "id": "13e5c0b6",
   "metadata": {},
   "source": [
    "#### b) Education"
   ]
  },
  {
   "cell_type": "code",
   "execution_count": 43,
   "id": "6d7cb92f",
   "metadata": {},
   "outputs": [
    {
     "ename": "NameError",
     "evalue": "name 'df_education' is not defined",
     "output_type": "error",
     "traceback": [
      "\u001b[0;31m---------------------------------------------------------------------------\u001b[0m",
      "\u001b[0;31mNameError\u001b[0m                                 Traceback (most recent call last)",
      "Cell \u001b[0;32mIn[43], line 2\u001b[0m\n\u001b[1;32m      1\u001b[0m \u001b[38;5;66;03m# Bar plot for median Value by education level\u001b[39;00m\n\u001b[0;32m----> 2\u001b[0m barplot(\u001b[38;5;124m'\u001b[39m\u001b[38;5;124mDemographics Response\u001b[39m\u001b[38;5;124m'\u001b[39m, \u001b[38;5;124m'\u001b[39m\u001b[38;5;124mValue\u001b[39m\u001b[38;5;124m'\u001b[39m, df_education, \u001b[38;5;124m'\u001b[39m\u001b[38;5;124mDemographics Response\u001b[39m\u001b[38;5;124m'\u001b[39m)\n\u001b[1;32m      3\u001b[0m plt\u001b[38;5;241m.\u001b[39mtitle(\u001b[38;5;124m'\u001b[39m\u001b[38;5;124mMedian \u001b[39m\u001b[38;5;124m%\u001b[39m\u001b[38;5;124m Agreement by Education Level\u001b[39m\u001b[38;5;124m'\u001b[39m)\n\u001b[1;32m      4\u001b[0m plt\u001b[38;5;241m.\u001b[39mxlabel(\u001b[38;5;124m'\u001b[39m\u001b[38;5;124mEducation Level\u001b[39m\u001b[38;5;124m'\u001b[39m)\n",
      "\u001b[0;31mNameError\u001b[0m: name 'df_education' is not defined"
     ]
    }
   ],
   "source": [
    "# Bar plot for median Value by education level\n",
    "barplot('Demographics Response', 'Value', df_education, 'Demographics Response')\n",
    "plt.title('Median % Agreement by Education Level')\n",
    "plt.xlabel('Education Level')\n",
    "plt.ylabel('% Agreement')\n",
    "plt.show()"
   ]
  },
  {
   "cell_type": "markdown",
   "id": "8a4e5e98",
   "metadata": {},
   "source": [
    "The highest median agreement with justifications for GBV is observed in the lowest education level, No education, and continues to decrease as the education level goes higher.\n",
    "\n",
    "This significant difference in the agreement levels between the lowest and highest education level shows that as individuals becomes more educated, they become exposed to views and opinions that challenge their agreement with GBV."
   ]
  },
  {
   "cell_type": "code",
   "execution_count": null,
   "id": "0244149c",
   "metadata": {},
   "outputs": [],
   "source": [
    "# Bar plot for median Value by education level\n",
    "boxplot('Demographics Response', 'Value', df_education, \"Demographics Response\")\n",
    "plt.title('Distribution of Value by by Education Level')\n",
    "plt.xlabel('Education Level')\n",
    "plt.ylabel('Value')\n",
    "plt.show()"
   ]
  },
  {
   "cell_type": "markdown",
   "id": "3dec657f",
   "metadata": {},
   "source": [
    "With lower medians and less spread as the education level goes higher, it shows that as people become more educated, they share a more uniform opinion against GBV.\n",
    "\n",
    "Although, we see that Higher education has a significant number of outliers, which suggests that while higher education generally leads to less acceptance of GBV, extreme views can still persist among some highly educated individuals."
   ]
  },
  {
   "cell_type": "markdown",
   "id": "0741f973",
   "metadata": {},
   "source": [
    "#### c) Residence"
   ]
  },
  {
   "cell_type": "code",
   "execution_count": null,
   "id": "b2615a78",
   "metadata": {},
   "outputs": [],
   "source": [
    "# Load_dataset\n",
    "df_residence = pd.read_csv(\"Residence_dataset.csv\")\n",
    "\n",
    "# Bar plot for median Value by residence type\n",
    "barplot('Demographics Response', 'Value', df_residence, 'Demographics Response')\n",
    "plt.title('Median % Agreement by Residence Type')\n",
    "plt.xlabel('Residence Type')\n",
    "plt.ylabel('% Agreement')\n",
    "plt.show()"
   ]
  },
  {
   "cell_type": "code",
   "execution_count": null,
   "id": "413c87f5",
   "metadata": {},
   "outputs": [],
   "source": [
    "# Bar plot for median Value by residence type\n",
    "boxplot('Demographics Response', 'Value', df_residence, \"Demographics Response\")\n",
    "plt.title('Distribution of Value by by Residence Type')\n",
    "plt.xlabel('Residence Type')\n",
    "plt.ylabel('Value')\n",
    "plt.show()"
   ]
  },
  {
   "cell_type": "markdown",
   "id": "f8325342",
   "metadata": {},
   "source": [
    "#### d) Employment"
   ]
  },
  {
   "cell_type": "code",
   "execution_count": null,
   "id": "10da241d",
   "metadata": {},
   "outputs": [],
   "source": [
    "#load_dataset\n",
    "df_employment = pd.read_csv(\"Employment_dataset.csv\")\n",
    "\n",
    "# Bar plot for median Value by employment status\n",
    "barplot('Demographics Response', 'Value', df_employment, 'Demographics Response')\n",
    "plt.title('Median % Agreement by Employment Status')\n",
    "plt.xlabel('Employment Status')\n",
    "plt.ylabel('% Agreement')\n",
    "plt.show()"
   ]
  },
  {
   "cell_type": "code",
   "execution_count": null,
   "id": "62b37cba",
   "metadata": {},
   "outputs": [],
   "source": [
    "# Bar plot for median Value by employment status\n",
    "boxplot('Demographics Response', 'Value', df_employment, \"Demographics Response\")\n",
    "plt.title('Distribution of Value by by Employment Status')\n",
    "plt.xlabel('Employment Status')\n",
    "plt.ylabel('Value')\n",
    "plt.show()"
   ]
  },
  {
   "cell_type": "markdown",
   "id": "f587dda7",
   "metadata": {},
   "source": [
    "#### e) Marital Status"
   ]
  },
  {
   "cell_type": "code",
   "execution_count": null,
   "id": "eb19fc28",
   "metadata": {},
   "outputs": [],
   "source": [
    "#load_dataset\n",
    "df_marital = pd.read_csv(\"Marital_Status_dataset.csv\")\n",
    "\n",
    "# Bar plot for median Value by marital status\n",
    "barplot('Demographics Response', 'Value', df_marital, 'Demographics Response')\n",
    "plt.title('Median % Agreement by Marital Status')\n",
    "plt.xlabel('Marital Status')\n",
    "plt.ylabel('% Agreement')\n",
    "plt.show()"
   ]
  },
  {
   "cell_type": "code",
   "execution_count": null,
   "id": "0f83b926",
   "metadata": {},
   "outputs": [],
   "source": [
    "# Bar plot for median Value by marital status\n",
    "boxplot('Demographics Response', 'Value', df_marital, \"Demographics Response\")\n",
    "plt.title('Distribution of Value by by Marital Status')\n",
    "plt.xlabel('Marital Status')\n",
    "plt.ylabel('Value')\n",
    "plt.show()"
   ]
  },
  {
   "cell_type": "code",
   "execution_count": null,
   "id": "26e47af9",
   "metadata": {},
   "outputs": [],
   "source": [
    "# Calculate median 'Value' by region and create a bar plot\n",
    "barplot('Demographics Response', 'Value', df_africa, 'Demographics Response')\n",
    "plt.title('Median % Agreement by Region')\n",
    "plt.xticks(rotation=90)  # Rotates the region names for better readability\n",
    "plt.xlabel('Region')\n",
    "plt.ylabel('% Agreement')\n",
    "plt.show()"
   ]
  },
  {
   "cell_type": "markdown",
   "id": "4438c0ef",
   "metadata": {},
   "source": [
    "### Outliers inspection"
   ]
  },
  {
   "cell_type": "code",
   "execution_count": null,
   "id": "5ecaeb5f",
   "metadata": {},
   "outputs": [],
   "source": [
    "# For statistical detection, I define a function to calculate IQR and identify outliers\n",
    "def detect_outliers(df, feature):\n",
    "    Q1 = df[feature].quantile(0.25)\n",
    "    Q3 = df[feature].quantile(0.75)\n",
    "    IQR = Q3 - Q1\n",
    "    outlier_threshold =  Q3 + (1.5 * IQR)\n",
    "    \n",
    "    outliers = df[df[feature] > outlier_threshold]\n",
    "    return outliers"
   ]
  },
  {
   "cell_type": "code",
   "execution_count": null,
   "id": "92e50e3a",
   "metadata": {},
   "outputs": [],
   "source": [
    "outliers_general = detect_outliers(df_africa, 'Value')"
   ]
  },
  {
   "cell_type": "code",
   "execution_count": null,
   "id": "62a24401",
   "metadata": {},
   "outputs": [],
   "source": [
    "outliers_general.head(20).sort_values(\"Value\", ascending=False)"
   ]
  },
  {
   "cell_type": "code",
   "execution_count": null,
   "id": "fb0a3613",
   "metadata": {},
   "outputs": [],
   "source": []
  },
  {
   "cell_type": "code",
   "execution_count": null,
   "id": "f126b2dc",
   "metadata": {},
   "outputs": [],
   "source": []
  },
  {
   "cell_type": "code",
   "execution_count": null,
   "id": "694ea91e",
   "metadata": {},
   "outputs": [],
   "source": []
  },
  {
   "cell_type": "code",
   "execution_count": null,
   "id": "4b7d86fb",
   "metadata": {},
   "outputs": [],
   "source": []
  },
  {
   "cell_type": "code",
   "execution_count": null,
   "id": "7da7cce5",
   "metadata": {},
   "outputs": [],
   "source": []
  },
  {
   "cell_type": "code",
   "execution_count": null,
   "id": "d84559db",
   "metadata": {},
   "outputs": [],
   "source": []
  },
  {
   "cell_type": "code",
   "execution_count": null,
   "id": "c983c191",
   "metadata": {},
   "outputs": [],
   "source": []
  },
  {
   "cell_type": "code",
   "execution_count": null,
   "id": "5e8e9376",
   "metadata": {},
   "outputs": [],
   "source": []
  },
  {
   "cell_type": "code",
   "execution_count": null,
   "id": "d329c61d",
   "metadata": {},
   "outputs": [],
   "source": []
  },
  {
   "cell_type": "code",
   "execution_count": null,
   "id": "898547b0",
   "metadata": {},
   "outputs": [],
   "source": []
  },
  {
   "cell_type": "code",
   "execution_count": null,
   "id": "fe733ecf",
   "metadata": {},
   "outputs": [],
   "source": []
  },
  {
   "cell_type": "code",
   "execution_count": null,
   "id": "4c6b8ae6",
   "metadata": {},
   "outputs": [],
   "source": []
  },
  {
   "cell_type": "markdown",
   "id": "2db34a6c",
   "metadata": {},
   "source": [
    "### Statistical analysis"
   ]
  },
  {
   "cell_type": "code",
   "execution_count": null,
   "id": "7a46c3f2",
   "metadata": {},
   "outputs": [],
   "source": []
  }
 ],
 "metadata": {
  "kernelspec": {
   "display_name": "Python 3 (ipykernel)",
   "language": "python",
   "name": "python3"
  },
  "language_info": {
   "codemirror_mode": {
    "name": "ipython",
    "version": 3
   },
   "file_extension": ".py",
   "mimetype": "text/x-python",
   "name": "python",
   "nbconvert_exporter": "python",
   "pygments_lexer": "ipython3",
   "version": "3.11.4"
  }
 },
 "nbformat": 4,
 "nbformat_minor": 5
}
